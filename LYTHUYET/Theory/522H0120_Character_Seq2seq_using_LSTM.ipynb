{
  "cells": [
    {
      "cell_type": "markdown",
      "source": [
        "# Overview of the Notebook\n",
        "+ Imports:\n",
        "\n",
        "The notebook uses numpy and keras for implementing the neural network.\n",
        "+ Hyperparameters and Dataset:\n",
        "\n",
        "Key parameters like batch_size, epochs, latent_dim (hidden state size), and num_samples (dataset size) are defined.\n",
        "The dataset is loaded from fra.txt, containing English-to-French translation pairs.\n",
        "+ Data Preprocessing:\n",
        "\n",
        "Input and target texts are read and split into character sequences.\n",
        "The vocabulary for input and target characters is extracted, and one-hot encoding is applied to create encoder_input_data, decoder_input_data, and decoder_target_data.\n",
        "+ Model Architecture:\n",
        "\n",
        "Encoder: An LSTM processes the input sequence and returns its final hidden and cell states.\n",
        "Decoder: Another LSTM uses the encoder's states as its initial state and outputs a sequence of characters.\n",
        "A Dense layer with a softmax activation maps the decoder's outputs to the target vocabulary.\n",
        "+ Training:\n",
        "\n",
        "The model is trained using the categorical_crossentropy loss and the RMSprop optimizer.\n",
        "After training, the model is saved to disk.\n",
        "+ Inference:\n",
        "\n",
        "Separate encoder and decoder models are constructed for inference.\n",
        "The decoder generates characters one by one using the encoder's state and its own predictions from the previous time step.\n",
        "+ Testing:\n",
        "\n",
        "The notebook tests the trained model on a few sentences and prints the input and decoded outputs.\n",
        "# Key Observations\n",
        "+ Character-based Translation:\n",
        "\n",
        "The model works at the character level instead of the word level, which helps handle languages with large or complex vocabularies.\n",
        "+ Seq2Seq with LSTM:\n",
        "\n",
        "Encoder-decoder architecture with LSTM is a standard method for tasks like machine translation.\n",
        "The latent states (hidden and cell states) carry context information between the encoder and decoder.\n",
        "+ Issues with Output:\n",
        "\n",
        "The decoded sentences in the test output show issues, with the model consistently producing incorrect translations like \"Je\". This may indicate:\n",
        "Insufficient training (only 2 epochs are used).\n",
        "A need for hyperparameter tuning or a larger dataset."
      ],
      "metadata": {
        "id": "_GdzCp80D8-v"
      },
      "id": "_GdzCp80D8-v"
    },
    {
      "cell_type": "code",
      "source": [
        "from google.colab import drive\n",
        "drive.mount('/content/drive')"
      ],
      "metadata": {
        "colab": {
          "base_uri": "https://localhost:8080/"
        },
        "id": "YHZN_aycAWRA",
        "outputId": "616a3ca8-eb81-4923-e3e0-8bb055e634ea"
      },
      "id": "YHZN_aycAWRA",
      "execution_count": 2,
      "outputs": [
        {
          "output_type": "stream",
          "name": "stdout",
          "text": [
            "Mounted at /content/drive\n"
          ]
        }
      ]
    },
    {
      "cell_type": "code",
      "execution_count": 3,
      "id": "07217a96",
      "metadata": {
        "id": "07217a96"
      },
      "outputs": [],
      "source": [
        "import numpy as np\n",
        "import keras"
      ]
    },
    {
      "cell_type": "code",
      "execution_count": null,
      "id": "bf9ec6ba",
      "metadata": {
        "id": "bf9ec6ba"
      },
      "outputs": [],
      "source": [
        "batch_size = 64  # Batch size for training.\n",
        "epochs = 2  # Number of epochs to train for.\n",
        "latent_dim = 256  # Latent dimensionality of the encoding space.\n",
        "num_samples = 10000  # Number of samples to train on.\n",
        "# Path to the data txt file on disk.\n",
        "data_path = \"fra.txt\""
      ]
    },
    {
      "cell_type": "code",
      "execution_count": null,
      "id": "51a51b44",
      "metadata": {
        "id": "51a51b44",
        "outputId": "20cb65fb-c8e6-47d5-be23-5c3d66e4bc9e"
      },
      "outputs": [
        {
          "name": "stdout",
          "output_type": "stream",
          "text": [
            "Go.\tVa !\tCC-BY 2.0 (France) Attribution: tatoeba.org #2877272 (CM) & #1158250 (Wittydev)\n",
            "Go.\tMarche.\tCC-BY 2.0 (France) Attribution: tatoeba.org #2877272 (CM) & #8090732 (Micsmithel)\n",
            "Go.\tEn route !\tCC-BY 2.0 (France) Attribution: tatoeba.org #2877272 (CM) & #8267435 (felix63)\n",
            "Go.\tBouge !\tCC-BY 2.0 (France) Attribution: tatoeba.org #2877272 (CM) & #9022935 (Micsmithel)\n",
            "Hi.\tSalut !\tCC-BY 2.0 (France) Attribution: tatoeba.org #538123 (CM) & #509819 (Aiji)\n",
            "Hi.\tSalut.\tCC-BY 2.0 (France) Attribution: tatoeba.org #538123 (CM) & #4320462 (gillux)\n",
            "Run!\tCours !\tCC-BY 2.0 (France) Attribution: tatoeba.org #906328 (papabear) & #906331 (sacredceltic)\n",
            "Run!\tCourez !\tCC-BY 2.0 (France) Attribution: tatoeba.org #906328 (papabear) & #906332 (sacredceltic)\n",
            "Run!\tPrenez vos jambes à vos cous !\tCC-BY 2.0 (France) Attribution: tatoeba.org #906328 (papabear) & #2077449 (sacredceltic)\n",
            "Run!\tFile !\tCC-BY 2.0 (France) Attribution: tatoeba.org #906328 (papabear) & #2077454 (sacredceltic)\n"
          ]
        }
      ],
      "source": [
        "with open(data_path, \"r\", encoding=\"utf-8\") as f:\n",
        "    lines = f.read().split(\"\\n\")\n",
        "for i in range(10):\n",
        "    print(lines[i])"
      ]
    },
    {
      "cell_type": "code",
      "execution_count": null,
      "id": "d1511b22",
      "metadata": {
        "id": "d1511b22",
        "outputId": "a4f9d4ce-e05f-4a64-cf12-04100e433eb4"
      },
      "outputs": [
        {
          "name": "stdout",
          "output_type": "stream",
          "text": [
            "Number of samples: 10000\n",
            "Number of unique input tokens: 70\n",
            "Number of unique output tokens: 91\n",
            "Max sequence length for inputs: 14\n",
            "Max sequence length for outputs: 59\n"
          ]
        }
      ],
      "source": [
        "# Vectorize the data.\n",
        "input_texts = []\n",
        "target_texts = []\n",
        "input_characters = set()\n",
        "target_characters = set()\n",
        "with open(data_path, \"r\", encoding=\"utf-8\") as f:\n",
        "    lines = f.read().split(\"\\n\")\n",
        "for line in lines[: min(num_samples, len(lines) - 1)]:\n",
        "    input_text, target_text, _ = line.split(\"\\t\")\n",
        "    # We use \"tab\" as the \"start sequence\" character\n",
        "    # for the targets, and \"\\n\" as \"end sequence\" character.\n",
        "    target_text = \"\\t\" + target_text + \"\\n\"\n",
        "    input_texts.append(input_text)\n",
        "    target_texts.append(target_text)\n",
        "    for char in input_text:\n",
        "        if char not in input_characters:\n",
        "            input_characters.add(char)\n",
        "    for char in target_text:\n",
        "        if char not in target_characters:\n",
        "            target_characters.add(char)\n",
        "\n",
        "input_characters = sorted(list(input_characters))\n",
        "target_characters = sorted(list(target_characters))\n",
        "num_encoder_tokens = len(input_characters)\n",
        "num_decoder_tokens = len(target_characters)\n",
        "max_encoder_seq_length = max([len(txt) for txt in input_texts])\n",
        "max_decoder_seq_length = max([len(txt) for txt in target_texts])\n",
        "\n",
        "print(\"Number of samples:\", len(input_texts))\n",
        "print(\"Number of unique input tokens:\", num_encoder_tokens)\n",
        "print(\"Number of unique output tokens:\", num_decoder_tokens)\n",
        "print(\"Max sequence length for inputs:\", max_encoder_seq_length)\n",
        "print(\"Max sequence length for outputs:\", max_decoder_seq_length)\n",
        "\n",
        "input_token_index = dict([(char, i) for i, char in enumerate(input_characters)])\n",
        "target_token_index = dict([(char, i) for i, char in enumerate(target_characters)])\n",
        "\n",
        "encoder_input_data = np.zeros(\n",
        "    (len(input_texts), max_encoder_seq_length, num_encoder_tokens),\n",
        "    dtype=\"float32\",\n",
        ")\n",
        "decoder_input_data = np.zeros(\n",
        "    (len(input_texts), max_decoder_seq_length, num_decoder_tokens),\n",
        "    dtype=\"float32\",\n",
        ")\n",
        "decoder_target_data = np.zeros(\n",
        "    (len(input_texts), max_decoder_seq_length, num_decoder_tokens),\n",
        "    dtype=\"float32\",\n",
        ")\n",
        "\n",
        "for i, (input_text, target_text) in enumerate(zip(input_texts, target_texts)):\n",
        "    for t, char in enumerate(input_text):\n",
        "        encoder_input_data[i, t, input_token_index[char]] = 1.0\n",
        "    encoder_input_data[i, t + 1 :, input_token_index[\" \"]] = 1.0\n",
        "    for t, char in enumerate(target_text):\n",
        "        # decoder_target_data is ahead of decoder_input_data by one timestep\n",
        "        decoder_input_data[i, t, target_token_index[char]] = 1.0\n",
        "        if t > 0:\n",
        "            # decoder_target_data will be ahead by one timestep\n",
        "            # and will not include the start character.\n",
        "            decoder_target_data[i, t - 1, target_token_index[char]] = 1.0\n",
        "    decoder_input_data[i, t + 1 :, target_token_index[\" \"]] = 1.0\n",
        "    decoder_target_data[i, t:, target_token_index[\" \"]] = 1.0"
      ]
    },
    {
      "cell_type": "code",
      "execution_count": null,
      "id": "e83f91c1",
      "metadata": {
        "id": "e83f91c1"
      },
      "outputs": [],
      "source": [
        "# Define an input sequence and process it.\n",
        "encoder_inputs = keras.Input(shape=(None, num_encoder_tokens))\n",
        "encoder = keras.layers.LSTM(latent_dim, return_state=True)\n",
        "encoder_outputs, state_h, state_c = encoder(encoder_inputs)\n",
        "\n",
        "# We discard `encoder_outputs` and only keep the states.\n",
        "encoder_states = [state_h, state_c]\n",
        "\n",
        "# Set up the decoder, using `encoder_states` as initial state.\n",
        "decoder_inputs = keras.Input(shape=(None, num_decoder_tokens))\n",
        "\n",
        "# We set up our decoder to return full output sequences,\n",
        "# and to return internal states as well. We don't use the\n",
        "# return states in the training model, but we will use them in inference.\n",
        "decoder_lstm = keras.layers.LSTM(latent_dim, return_sequences=True, return_state=True)\n",
        "decoder_outputs, _, _ = decoder_lstm(decoder_inputs, initial_state=encoder_states)\n",
        "decoder_dense = keras.layers.Dense(num_decoder_tokens, activation=\"softmax\")\n",
        "decoder_outputs = decoder_dense(decoder_outputs)\n",
        "\n",
        "# Define the model that will turn\n",
        "# `encoder_input_data` & `decoder_input_data` into `decoder_target_data`\n",
        "model = keras.Model([encoder_inputs, decoder_inputs], decoder_outputs)"
      ]
    },
    {
      "cell_type": "code",
      "execution_count": null,
      "id": "90cd6288",
      "metadata": {
        "id": "90cd6288",
        "outputId": "3f104cdc-9bed-40c5-9ae8-640df7f036eb"
      },
      "outputs": [
        {
          "name": "stdout",
          "output_type": "stream",
          "text": [
            "Epoch 1/2\n",
            "125/125 [==============================] - 26s 192ms/step - loss: 1.2123 - accuracy: 0.7340 - val_loss: 1.0947 - val_accuracy: 0.7141\n",
            "Epoch 2/2\n",
            "125/125 [==============================] - 22s 175ms/step - loss: 0.9355 - accuracy: 0.7484 - val_loss: 0.9830 - val_accuracy: 0.7273\n"
          ]
        }
      ],
      "source": [
        "model.compile(\n",
        "    optimizer=\"rmsprop\", loss=\"categorical_crossentropy\", metrics=[\"accuracy\"]\n",
        ")\n",
        "model.fit(\n",
        "    [encoder_input_data, decoder_input_data],\n",
        "    decoder_target_data,\n",
        "    batch_size=batch_size,\n",
        "    epochs=epochs,\n",
        "    validation_split=0.2,\n",
        ")\n",
        "# Save model\n",
        "model.save(\"s2s_model.keras\")"
      ]
    },
    {
      "cell_type": "code",
      "execution_count": null,
      "id": "270b69a5",
      "metadata": {
        "id": "270b69a5"
      },
      "outputs": [],
      "source": [
        "# Define sampling models\n",
        "# Restore the model and construct the encoder and decoder.\n",
        "model = keras.models.load_model(\"s2s_model.keras\")\n",
        "\n",
        "encoder_inputs = model.input[0]  # input_1\n",
        "encoder_outputs, state_h_enc, state_c_enc = model.layers[2].output  # lstm_1\n",
        "encoder_states = [state_h_enc, state_c_enc]\n",
        "encoder_model = keras.Model(encoder_inputs, encoder_states)\n",
        "\n",
        "decoder_inputs = model.input[1]  # input_2\n",
        "decoder_state_input_h = keras.Input(shape=(latent_dim,))\n",
        "decoder_state_input_c = keras.Input(shape=(latent_dim,))\n",
        "decoder_states_inputs = [decoder_state_input_h, decoder_state_input_c]\n",
        "decoder_lstm = model.layers[3]\n",
        "decoder_outputs, state_h_dec, state_c_dec = decoder_lstm(\n",
        "    decoder_inputs, initial_state=decoder_states_inputs\n",
        ")\n",
        "decoder_states = [state_h_dec, state_c_dec]\n",
        "decoder_dense = model.layers[4]\n",
        "decoder_outputs = decoder_dense(decoder_outputs)\n",
        "decoder_model = keras.Model(\n",
        "    [decoder_inputs] + decoder_states_inputs, [decoder_outputs] + decoder_states\n",
        ")\n",
        "\n",
        "# Reverse-lookup token index to decode sequences back to\n",
        "# something readable.\n",
        "reverse_input_char_index = dict((i, char) for char, i in input_token_index.items())\n",
        "reverse_target_char_index = dict((i, char) for char, i in target_token_index.items())\n",
        "\n",
        "\n",
        "def decode_sequence(input_seq):\n",
        "    # Encode the input as state vectors.\n",
        "    states_value = encoder_model.predict(input_seq, verbose=0)\n",
        "\n",
        "    # Generate empty target sequence of length 1.\n",
        "    target_seq = np.zeros((1, 1, num_decoder_tokens))\n",
        "    # Populate the first character of target sequence with the start character.\n",
        "    target_seq[0, 0, target_token_index[\"\\t\"]] = 1.0\n",
        "\n",
        "    # Sampling loop for a batch of sequences\n",
        "    # (to simplify, here we assume a batch of size 1).\n",
        "    stop_condition = False\n",
        "    decoded_sentence = \"\"\n",
        "    while not stop_condition:\n",
        "        output_tokens, h, c = decoder_model.predict(\n",
        "            [target_seq] + states_value, verbose=0\n",
        "        )\n",
        "\n",
        "        # Sample a token\n",
        "        sampled_token_index = np.argmax(output_tokens[0, -1, :])\n",
        "        sampled_char = reverse_target_char_index[sampled_token_index]\n",
        "        decoded_sentence += sampled_char\n",
        "\n",
        "        # Exit condition: either hit max length\n",
        "        # or find stop character.\n",
        "        if sampled_char == \"\\n\" or len(decoded_sentence) > max_decoder_seq_length:\n",
        "            stop_condition = True\n",
        "\n",
        "        # Update the target sequence (of length 1).\n",
        "        target_seq = np.zeros((1, 1, num_decoder_tokens))\n",
        "        target_seq[0, 0, sampled_token_index] = 1.0\n",
        "\n",
        "        # Update states\n",
        "        states_value = [h, c]\n",
        "    return decoded_sentence"
      ]
    },
    {
      "cell_type": "code",
      "execution_count": null,
      "id": "66375e9a",
      "metadata": {
        "id": "66375e9a",
        "outputId": "d82163bf-e40b-4081-fff2-c22935480aa6"
      },
      "outputs": [
        {
          "name": "stdout",
          "output_type": "stream",
          "text": [
            "-\n",
            "Input sentence: Go.\n",
            "Decoded sentence: Je                                                          \n",
            "-\n",
            "Input sentence: Go.\n",
            "Decoded sentence: Je                                                          \n",
            "-\n",
            "Input sentence: Go.\n",
            "Decoded sentence: Je                                                          \n",
            "-\n",
            "Input sentence: Go.\n",
            "Decoded sentence: Je                                                          \n",
            "-\n",
            "Input sentence: Hi.\n",
            "Decoded sentence: Je                                                          \n",
            "-\n",
            "Input sentence: Hi.\n",
            "Decoded sentence: Je                                                          \n",
            "-\n",
            "Input sentence: Run!\n",
            "Decoded sentence: Je                                                          \n",
            "-\n",
            "Input sentence: Run!\n",
            "Decoded sentence: Je                                                          \n",
            "-\n",
            "Input sentence: Run!\n",
            "Decoded sentence: Je                                                          \n",
            "-\n",
            "Input sentence: Run!\n",
            "Decoded sentence: Je                                                          \n",
            "-\n",
            "Input sentence: Run!\n",
            "Decoded sentence: Je                                                          \n",
            "-\n",
            "Input sentence: Run!\n",
            "Decoded sentence: Je                                                          \n",
            "-\n",
            "Input sentence: Run!\n",
            "Decoded sentence: Je                                                          \n",
            "-\n",
            "Input sentence: Run!\n",
            "Decoded sentence: Je                                                          \n",
            "-\n",
            "Input sentence: Run.\n",
            "Decoded sentence: Je                                                          \n",
            "-\n",
            "Input sentence: Run.\n",
            "Decoded sentence: Je                                                          \n",
            "-\n",
            "Input sentence: Run.\n",
            "Decoded sentence: Je                                                          \n",
            "-\n",
            "Input sentence: Run.\n",
            "Decoded sentence: Je                                                          \n",
            "-\n",
            "Input sentence: Run.\n",
            "Decoded sentence: Je                                                          \n",
            "-\n",
            "Input sentence: Run.\n",
            "Decoded sentence: Je                                                          \n"
          ]
        }
      ],
      "source": [
        "for seq_index in range(20):\n",
        "    # Take one sequence (part of the training set)\n",
        "    # for trying out decoding.\n",
        "    input_seq = encoder_input_data[seq_index : seq_index + 1]\n",
        "    decoded_sentence = decode_sequence(input_seq)\n",
        "    print(\"-\")\n",
        "    print(\"Input sentence:\", input_texts[seq_index])\n",
        "    print(\"Decoded sentence:\", decoded_sentence)"
      ]
    },
    {
      "cell_type": "code",
      "execution_count": null,
      "id": "0d25a6f4",
      "metadata": {
        "id": "0d25a6f4"
      },
      "outputs": [],
      "source": []
    }
  ],
  "metadata": {
    "kernelspec": {
      "display_name": "Python 3 (ipykernel)",
      "language": "python",
      "name": "python3"
    },
    "language_info": {
      "codemirror_mode": {
        "name": "ipython",
        "version": 3
      },
      "file_extension": ".py",
      "mimetype": "text/x-python",
      "name": "python",
      "nbconvert_exporter": "python",
      "pygments_lexer": "ipython3",
      "version": "3.11.4"
    },
    "colab": {
      "provenance": []
    }
  },
  "nbformat": 4,
  "nbformat_minor": 5
}