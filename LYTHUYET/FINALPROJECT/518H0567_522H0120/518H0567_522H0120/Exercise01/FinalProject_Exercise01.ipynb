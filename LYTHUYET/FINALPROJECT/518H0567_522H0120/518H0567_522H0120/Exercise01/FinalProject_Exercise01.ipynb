{
  "nbformat": 4,
  "nbformat_minor": 0,
  "metadata": {
    "colab": {
      "provenance": [],
      "collapsed_sections": [
        "lugpEZMY5zvo",
        "vYs6yTo6qysq",
        "QV1YjETcDbCz"
      ],
      "gpuType": "T4"
    },
    "kernelspec": {
      "name": "python3",
      "display_name": "Python 3"
    },
    "language_info": {
      "name": "python"
    },
    "accelerator": "GPU"
  },
  "cells": [
    {
      "cell_type": "code",
      "source": [
        "import os\n",
        "import numpy as np\n",
        "import matplotlib.pyplot as plt\n",
        "import torch\n",
        "import torch.nn as nn\n",
        "import torch.nn.functional as F\n",
        "import torch.optim as optim\n",
        "from torch.utils.data import DataLoader, TensorDataset, random_split\n",
        "from torch.utils.data import Dataset\n",
        "from torch.nn.utils import weight_norm\n",
        "from sklearn.metrics import mean_absolute_error, mean_squared_error\n",
        "import sentencepiece as spm\n",
        "\n",
        "base_dir = '/content/drive/MyDrive/Data_set'"
      ],
      "metadata": {
        "id": "m4D_E9HNlWHB"
      },
      "execution_count": null,
      "outputs": []
    },
    {
      "cell_type": "markdown",
      "source": [
        "-----------------------------------------"
      ],
      "metadata": {
        "id": "M8IKLsEb5qyN"
      }
    },
    {
      "cell_type": "markdown",
      "source": [
        "# Processing raw data"
      ],
      "metadata": {
        "id": "lugpEZMY5zvo"
      }
    },
    {
      "cell_type": "markdown",
      "source": [],
      "metadata": {
        "id": "05cpr171nd4W"
      }
    },
    {
      "cell_type": "code",
      "source": [
        "!pip install translate"
      ],
      "metadata": {
        "colab": {
          "base_uri": "https://localhost:8080/"
        },
        "id": "pDd1HRyJ5p0n",
        "outputId": "02b6871e-fdfc-4383-8bf3-0965f97d50eb"
      },
      "execution_count": null,
      "outputs": [
        {
          "output_type": "stream",
          "name": "stdout",
          "text": [
            "Collecting translate\n",
            "  Downloading translate-3.6.1-py2.py3-none-any.whl.metadata (7.7 kB)\n",
            "Requirement already satisfied: click in /usr/local/lib/python3.10/dist-packages (from translate) (8.1.7)\n",
            "Requirement already satisfied: lxml in /usr/local/lib/python3.10/dist-packages (from translate) (5.3.0)\n",
            "Requirement already satisfied: requests in /usr/local/lib/python3.10/dist-packages (from translate) (2.32.3)\n",
            "Collecting libretranslatepy==2.1.1 (from translate)\n",
            "  Downloading libretranslatepy-2.1.1-py3-none-any.whl.metadata (233 bytes)\n",
            "Requirement already satisfied: charset-normalizer<4,>=2 in /usr/local/lib/python3.10/dist-packages (from requests->translate) (3.4.0)\n",
            "Requirement already satisfied: idna<4,>=2.5 in /usr/local/lib/python3.10/dist-packages (from requests->translate) (3.10)\n",
            "Requirement already satisfied: urllib3<3,>=1.21.1 in /usr/local/lib/python3.10/dist-packages (from requests->translate) (2.2.3)\n",
            "Requirement already satisfied: certifi>=2017.4.17 in /usr/local/lib/python3.10/dist-packages (from requests->translate) (2024.12.14)\n",
            "Downloading translate-3.6.1-py2.py3-none-any.whl (12 kB)\n",
            "Downloading libretranslatepy-2.1.1-py3-none-any.whl (3.2 kB)\n",
            "Installing collected packages: libretranslatepy, translate\n",
            "Successfully installed libretranslatepy-2.1.1 translate-3.6.1\n"
          ]
        }
      ]
    },
    {
      "cell_type": "code",
      "source": [
        "raw_data=[]\n",
        "path = '/content/drive/MyDrive/Data_set/raw2.txt'\n",
        "a='abcdefghijklmnopqrstuvwxyz'\n",
        "A='ABCDEFGHIJKLMNOPQRSTUVWXYZ'\n",
        "mark='.?!'\n",
        "\n",
        "with open(path, 'r') as file:\n",
        "    for line in file:\n",
        "        if len(line) < 1:\n",
        "            continue\n",
        "        sentence =''\n",
        "        for i in range(len(line)):\n",
        "            if  line[i]in mark:\n",
        "                sentence+=' '\n",
        "                sentence+=line[i]\n",
        "                raw_data.append(sentence)\n",
        "                sentence =''\n",
        "            elif line[i] in a and line[i+1] in A:\n",
        "                sentence+=line[i]\n",
        "                sentence+=' .'\n",
        "                raw_data.append(sentence)\n",
        "                sentence =''\n",
        "            elif line[i] =='\\n':\n",
        "                raw_data.append(sentence)\n",
        "                sentence =''\n",
        "            else:\n",
        "                sentence+=line[i]\n",
        "        raw_data.append(sentence)\n"
      ],
      "metadata": {
        "id": "7PIFWeLGHogW"
      },
      "execution_count": null,
      "outputs": []
    },
    {
      "cell_type": "code",
      "source": [
        "processed_data=[]\n",
        "for i in raw_data:\n",
        "    if not (i == '' or i==' .'):\n",
        "        if i[0]==' ':\n",
        "            processed_data.append(i[1:])\n",
        "            continue\n",
        "        processed_data.append(i)"
      ],
      "metadata": {
        "id": "kbCxZMJDNSG7"
      },
      "execution_count": null,
      "outputs": []
    },
    {
      "cell_type": "code",
      "source": [
        "dummy = []\n",
        "for i in  processed_data:\n",
        "    if len(i)> 3 and i [0] in A:\n",
        "        i = a[A.index(i[0])] + i[1:]\n",
        "    dummy.append(i.split(' '))\n",
        "for i in  dummy:\n",
        "    if len(i)< 3:\n",
        "        dummy.remove(i)"
      ],
      "metadata": {
        "id": "FppllVsqWSRT"
      },
      "execution_count": null,
      "outputs": []
    },
    {
      "cell_type": "code",
      "source": [
        "dummy = [i for n, i in enumerate(dummy) if i not in dummy[:n]]"
      ],
      "metadata": {
        "id": "LAZn1jrzcqC_"
      },
      "execution_count": null,
      "outputs": []
    },
    {
      "cell_type": "code",
      "source": [
        "processed_data=dummy"
      ],
      "metadata": {
        "id": "3fBv5yzeZKFF"
      },
      "execution_count": null,
      "outputs": []
    },
    {
      "cell_type": "code",
      "source": [
        "len(dummy)"
      ],
      "metadata": {
        "id": "fVYGfzxQizBi"
      },
      "execution_count": null,
      "outputs": []
    },
    {
      "cell_type": "code",
      "source": [
        "filename = '/content/drive/MyDrive/Data_set/vn_processed1.txt'\n",
        "with open(filename, 'w') as file:\n",
        "        for data in processed_data:\n",
        "        # Writing to a file\n",
        "\n",
        "            file.write(\" \".join(map(str, data)))\n",
        "            file.write(\"\\n\")"
      ],
      "metadata": {
        "id": "Z_Rhivg1QNBD"
      },
      "execution_count": null,
      "outputs": []
    },
    {
      "cell_type": "markdown",
      "source": [
        "translate to VN  for trainning"
      ],
      "metadata": {
        "id": "Sg3_4fEtplq_"
      }
    },
    {
      "cell_type": "code",
      "source": [
        "from translate import Translator\n",
        "translator = Translator(to_lang=\"vi\")\n",
        "translation = translator.translate(\"This is a pen .\")\n",
        "print(translation)"
      ],
      "metadata": {
        "id": "YnE_4iNFuXjK"
      },
      "execution_count": null,
      "outputs": []
    },
    {
      "cell_type": "code",
      "source": [
        "array=[]\n",
        "with open('/content/drive/MyDrive/Data_set/vn_processed1.txt', 'r') as file:\n",
        "    for line in file:\n",
        "        translation = translator.translate(line)\n",
        "        array.append(translation)\n",
        "\n",
        "with open('/content/drive/MyDrive/Data_set/en_processed1.txt', 'w') as file:\n",
        "    for data in array:\n",
        "\n",
        "        file.write(data)\n",
        "        file.write(\"\\n\")\n"
      ],
      "metadata": {
        "id": "NooMDGeZpxxJ"
      },
      "execution_count": null,
      "outputs": []
    },
    {
      "cell_type": "markdown",
      "source": [
        "# Train tokenizer"
      ],
      "metadata": {
        "id": "vYs6yTo6qysq"
      }
    },
    {
      "cell_type": "code",
      "source": [
        "!pip install sentencepiece"
      ],
      "metadata": {
        "colab": {
          "base_uri": "https://localhost:8080/"
        },
        "id": "7pYq6OWd1a3z",
        "outputId": "1cd9cae3-ef79-4e0f-f1de-6d737081caeb"
      },
      "execution_count": null,
      "outputs": [
        {
          "output_type": "stream",
          "name": "stdout",
          "text": [
            "Requirement already satisfied: sentencepiece in /usr/local/lib/python3.10/dist-packages (0.2.0)\n"
          ]
        }
      ]
    },
    {
      "cell_type": "code",
      "source": [
        "\n",
        "\n",
        "\n",
        "input_file_vn = os.path.join(base_dir, 'vn_processed.txt')\n",
        "input_file_en = os.path.join(base_dir, 'en_processed.txt')\n",
        "\n",
        "# Set the desired vocabulary sizes\n",
        "target_vocab_size_vn = 400\n",
        "target_vocab_size_en = 600\n",
        "\n",
        "# Train the SentencePiece model for English\n",
        "spm.SentencePieceTrainer.Train(\n",
        "    f\"--input={input_file_vn} --model_type=unigram --hard_vocab_limit=false\" +\n",
        "    f\" --model_prefix={base_dir}/en --vocab_size={target_vocab_size_vn}\")\n",
        "\n",
        "# Train the SentencePiece model for VietNamese\n",
        "spm.SentencePieceTrainer.Train(\n",
        "    f\"--input={input_file_en} --model_type=unigram --hard_vocab_limit=false\" +\n",
        "    f\" --model_prefix={base_dir}/vn --vocab_size={target_vocab_size_en}\")\n",
        "\n",
        "print(\"SentencePiece model training complete.\")\n"
      ],
      "metadata": {
        "id": "B61bGRD8xrNt"
      },
      "execution_count": null,
      "outputs": []
    },
    {
      "cell_type": "markdown",
      "source": [
        "#  processing trainning data"
      ],
      "metadata": {
        "id": "n7Kk-eLVxkeg"
      }
    },
    {
      "cell_type": "markdown",
      "source": [
        "dataset : vn_processed.txt , en_processed.txt\n",
        "(self collected) , 1103 senctence that match each other from eng to vn"
      ],
      "metadata": {
        "id": "vQ5VVKizc0_r"
      }
    },
    {
      "cell_type": "markdown",
      "source": [
        "## functions"
      ],
      "metadata": {
        "id": "VxeqLEMq1_ns"
      }
    },
    {
      "cell_type": "code",
      "source": [
        "def load_data_files(folder_path):\n",
        "    data_set = []\n",
        "    with open(folder_path, 'r') as file:\n",
        "        for line in file:\n",
        "            data_set.append(line)\n",
        "    return data_set\n",
        "\n",
        "\n",
        "def pad_sequences(sequences, maxlen, padding_value):\n",
        "    padded_sequences = []\n",
        "    for seq in sequences:\n",
        "        if len(seq) < maxlen:\n",
        "            seq = seq + [padding_value] * (maxlen - len(seq))\n",
        "        padded_sequences.append(seq)\n",
        "    return torch.tensor(padded_sequences)"
      ],
      "metadata": {
        "id": "OFMZ34O919nc"
      },
      "execution_count": null,
      "outputs": []
    },
    {
      "cell_type": "markdown",
      "source": [
        "##exercution"
      ],
      "metadata": {
        "id": "lcOvnTmt2EYP"
      }
    },
    {
      "cell_type": "code",
      "source": [
        "vn_text = load_data_files(os.path.join(base_dir, 'vn_processed.txt'))\n",
        "en_text = load_data_files(os.path.join(base_dir, 'en_processed.txt'))\n",
        "\n",
        "train_vn_X = []\n",
        "train_en_X = []\n",
        "train_en_Y = []\n",
        "\n",
        "vn_max_len = 0\n",
        "en_max_len = 0\n",
        "\n",
        "sp_vn = spm.SentencePieceProcessor()\n",
        "sp_vn.Load(os.path.join(base_dir,'en.model'))\n",
        "\n",
        "sp_en = spm.SentencePieceProcessor()\n",
        "sp_en.Load(os.path.join(base_dir,'vn.model'))\n",
        "\n",
        "vocab_size_vn = sp_vn.GetPieceSize()\n",
        "vocab_size_en = sp_en.GetPieceSize()\n",
        "# Assuming three extra tokens: <end>: #vocab_size_vn | #vocab_size_en,\n",
        "# <empty>: #vocab_size_vn+1 | #vocab_size_en+1, and <start>: #vocab_size_en+2\n",
        "end_tokvn_id_vn = vocab_size_vn\n",
        "empty_tokvn_id_vn = vocab_size_vn + 1\n",
        "end_tokvn_id_en = vocab_size_en\n",
        "empty_tokvn_id_en = vocab_size_en + 1\n",
        "start_tokvn_id_en = vocab_size_en + 2\n",
        "\n",
        "# The input text only needs two extra tokens while the output needs 3\n",
        "vocab_size_vn += 2\n",
        "vocab_size_en += 3\n",
        "\n",
        "for i in range(len(vn_text)):\n",
        "    vn_seq = sp_vn.EncodeAsIds(vn_text[i].strip()) + [end_tokvn_id_vn]\n",
        "    vn_max_len = max(vn_max_len, len(vn_seq))\n",
        "    train_vn_X.append(vn_seq)\n",
        "\n",
        "    en_seq = sp_en.EncodeAsIds(en_text[i].strip()) + [end_tokvn_id_en]\n",
        "    en_max_len = max(en_max_len, len(en_seq))\n",
        "    train_en_X.append(en_seq)\n",
        "\n",
        "# Padding all the samples with <empty> token to make them all of the same length\n",
        "train_vn_X = pad_sequences(train_vn_X, maxlen=en_max_len + 1, padding_value=empty_tokvn_id_vn)\n",
        "train_en_X = pad_sequences(train_en_X, maxlen=en_max_len + 1, padding_value=empty_tokvn_id_en)\n",
        "\n",
        "# Converting the train_en_Y to a one-hot vector needed by the training phase as the output\n",
        "def to_categorical(y, num_classes):\n",
        "    return F.one_hot(y, num_classes=num_classes).float()\n",
        "\n",
        "train_en_Y = to_categorical(train_en_X, num_classes=vocab_size_en)\n",
        "\n",
        "# Moving the last <empty> to the first position in each input sample\n",
        "train_en_X = torch.roll(train_en_X, 1, dims=-1)\n",
        "# Changing the first token in each input sample to <start>\n",
        "train_en_X[:, 0] = start_tokvn_id_en\n",
        "\n",
        "en_max_len += 1\n"
      ],
      "metadata": {
        "id": "hGAOKAY5vlT6"
      },
      "execution_count": null,
      "outputs": []
    },
    {
      "cell_type": "markdown",
      "source": [
        "# defining model"
      ],
      "metadata": {
        "id": "vA-Nhdan3ceM"
      }
    },
    {
      "cell_type": "markdown",
      "source": [
        "## for trainning"
      ],
      "metadata": {
        "id": "c7xpmzV0Disy"
      }
    },
    {
      "cell_type": "code",
      "source": [
        "\n",
        "class LSTM_vncode_decode_Model(nn.Module):\n",
        "    def __init__(self, vocab_size_vn, vocab_size_en, hiddvn_dim, vn_max_len, att=False):\n",
        "        super(LSTM_vncode_decode_Model, self).__init__()\n",
        "        self.hiddvn_dim = hiddvn_dim\n",
        "        self.att=att\n",
        "        self.embedding_vn = nn.Embedding(vocab_size_vn, hiddvn_dim)\n",
        "        self.embedding_en = nn.Embedding(vocab_size_en, hiddvn_dim)\n",
        "        self.encoder_lstm = nn.LSTM(hiddvn_dim, hiddvn_dim, bidirectional=True, batch_first=True)\n",
        "        self.decoder_lstm = nn.LSTM(hiddvn_dim , hiddvn_dim * 2, batch_first=True)\n",
        "        self.attention = nn.MultiheadAttention(embed_dim=hiddvn_dim * 2,\n",
        "                                               num_heads=1,\n",
        "                                               batch_first=True)\n",
        "        #self.fc1 = nn.Linear(hiddvn_dim * 4, 2048)\n",
        "        self.fc1 = nn.Linear(hiddvn_dim * 2 if not att else hiddvn_dim * 4, 2048)\n",
        "        self.fc2 = nn.Linear(2048, 1024)\n",
        "        self.fc3 = nn.Linear(1024, 512)\n",
        "        self.fc4 = nn.Linear(512, vocab_size_en)\n",
        "        self.dropout = nn.Dropout(0.4)\n",
        "\n",
        "    def forward(self, input_vn, input_en):\n",
        "        embedded_vn = self.embedding_vn(input_vn)\n",
        "        encoder_outputs, (hidden, cell) = self.encoder_lstm(embedded_vn)\n",
        "        hidden = torch.cat((hidden[-2,:,:], hidden[-1,:,:]), dim=1)\n",
        "        cell = torch.cat((cell[-2,:,:], cell[-1,:,:]), dim=1)\n",
        "\n",
        "        embedded_en = self.embedding_en(input_en)\n",
        "        decoder_outputs, _ = self.decoder_lstm(embedded_en, (hidden.unsqueeze(0), cell.unsqueeze(0)))\n",
        "        if self.att:\n",
        "            context, _ = self.attention(decoder_outputs, encoder_outputs, encoder_outputs)\n",
        "            rnn_output = torch.cat((decoder_outputs, context.expand(decoder_outputs.shape[0], decoder_outputs.shape[1], -1)), dim=2)\n",
        "        else:\n",
        "            rnn_output = decoder_outputs\n",
        "            #rnn_output = rnn_output.contiguous().view(-1, rnn_output.shape[2])\n",
        "\n",
        "        dl0 = torch.relu(self.fc1(rnn_output))\n",
        "        dl1 = torch.relu(self.fc2(dl0))\n",
        "        dl2 = torch.relu(self.fc3(dl1))\n",
        "        dl2 = self.dropout(dl2)\n",
        "        #dense_output = torch.softmax(self.fc4(dl2), dim=-1)\n",
        "        dense_output = torch.sigmoid(self.fc4(dl2))\n",
        "        dense_output = dense_output.view(input_en.size(0), input_en.size(1), -1)\n",
        "        return dense_output\n",
        "\n"
      ],
      "metadata": {
        "id": "rURF1jaiF4T6"
      },
      "execution_count": null,
      "outputs": []
    },
    {
      "cell_type": "code",
      "source": [
        "hiddvn_dim=128\n",
        "model_non_att = LSTM_vncode_decode_Model(vocab_size_vn, vocab_size_en, hiddvn_dim, vn_max_len)\n",
        "model_att = LSTM_vncode_decode_Model(vocab_size_vn, vocab_size_en, hiddvn_dim, vn_max_len, att=True)\n",
        "model_att"
      ],
      "metadata": {
        "colab": {
          "base_uri": "https://localhost:8080/"
        },
        "id": "s_v0UC0s6Atw",
        "outputId": "1858dcae-d151-4ffb-d069-b4169948f229"
      },
      "execution_count": null,
      "outputs": [
        {
          "output_type": "execute_result",
          "data": {
            "text/plain": [
              "LSTM_encode_decode_Model(\n",
              "  (embedding_en): Embedding(402, 128)\n",
              "  (embedding_vn): Embedding(603, 128)\n",
              "  (encoder_lstm): LSTM(128, 128, batch_first=True, bidirectional=True)\n",
              "  (decoder_lstm): LSTM(128, 256, batch_first=True)\n",
              "  (attention): AttentionLayer(\n",
              "    (attn): Linear(in_features=256, out_features=256, bias=True)\n",
              "  )\n",
              "  (fc1): Linear(in_features=512, out_features=2048, bias=True)\n",
              "  (fc2): Linear(in_features=2048, out_features=1024, bias=True)\n",
              "  (fc3): Linear(in_features=1024, out_features=512, bias=True)\n",
              "  (fc4): Linear(in_features=512, out_features=603, bias=True)\n",
              "  (dropout): Dropout(p=0.4, inplace=False)\n",
              ")"
            ]
          },
          "metadata": {},
          "execution_count": 29
        }
      ]
    },
    {
      "cell_type": "markdown",
      "source": [
        "##for testing"
      ],
      "metadata": {
        "id": "QV1YjETcDbCz"
      }
    },
    {
      "cell_type": "code",
      "source": [
        "import torch\n",
        "import torch.nn as nn\n",
        "\n",
        "class Encoder(nn.Module):\n",
        "    def __init__(self, vocab_size_vn, hiddvn_dim):\n",
        "        super(Encoder, self).__init__()\n",
        "        self.embedding_vn = nn.Embedding(vocab_size_vn, hiddvn_dim)\n",
        "        self.encoder_lstm = nn.LSTM(hiddvn_dim, hiddvn_dim, bidirectional=True, batch_first=True)\n",
        "\n",
        "    def forward(self, input_vn):\n",
        "        embedded_vn = self.embedding_vn(input_vn)\n",
        "        encoder_outputs, (hidden, cell) = self.encoder_lstm(embedded_vn)\n",
        "        hidden = torch.cat((hidden[-2,:,:], hidden[-1,:,:]), dim=1)\n",
        "        cell = torch.cat((cell[-2,:,:], cell[-1,:,:]), dim=1)\n",
        "        return encoder_outputs, hidden, cell\n",
        "\n",
        "class AttentionLayer(nn.Module):\n",
        "    def __init__(self, hiddvn_dim):\n",
        "        super(AttentionLayer, self).__init__()\n",
        "        self.attn = nn.Linear(hiddvn_dim * 4, hiddvn_dim * 2)\n",
        "        self.v = nn.Parameter(torch.rand(hiddvn_dim * 2))\n",
        "\n",
        "    def forward(self, encoder_outputs, decoder_hidden):\n",
        "        seq_len, batch_size, hiddvn_dim = encoder_outputs.shape\n",
        "        decoder_hiddvn_expanded = decoder_hidden.unsqueeze(1).expand(-1, seq_len, -1)\n",
        "        combined = torch.cat((encoder_outputs, decoder_hiddvn_expanded), dim=2)\n",
        "        attn_weights = torch.sum(self.v * torch.tanh(self.attn(combined)), dim=2)\n",
        "        attn_weights = torch.softmax(attn_weights, dim=1)\n",
        "        context = torch.sum(attn_weights.unsqueeze(2) * encoder_outputs, dim=1)\n",
        "        return context, attn_weights\n",
        "\n",
        "class Decoder(nn.Module):\n",
        "    def __init__(self, vocab_size_en, hiddvn_dim, output_dim):\n",
        "        super(Decoder, self).__init__()\n",
        "        self.embedding_en = nn.Embedding(vocab_size_en, hiddvn_dim)\n",
        "        self.decoder_lstm = nn.LSTM(hiddvn_dim, hiddvn_dim * 2, batch_first=True)\n",
        "        self.attention = AttentionLayer(hiddvn_dim)\n",
        "        self.fc1 = nn.Linear(hiddvn_dim * 4, 2048)\n",
        "        self.fc2 = nn.Linear(2048, 1024)\n",
        "        self.fc3 = nn.Linear(1024, 512)\n",
        "        self.fc4 = nn.Linear(512, output_dim)\n",
        "        self.dropout = nn.Dropout(0.4)\n",
        "\n",
        "    def forward(self, input_en, hidden, cell, encoder_outputs):\n",
        "        embedded_en = self.embedding_en(input_en)\n",
        "        decoder_outputs, (hidden, cell) = self.decoder_lstm(embedded_en, (hidden.unsqueeze(0), cell.unsqueeze(0)))\n",
        "\n",
        "        context, _ = self.attention(encoder_outputs, decoder_outputs[:, -1, :])\n",
        "        rnn_output = torch.cat((decoder_outputs, context.unsqueeze(1).expand_as(decoder_outputs)), dim=2)\n",
        "\n",
        "        dl0 = torch.relu(self.fc1(rnn_output))\n",
        "        dl1 = torch.relu(self.fc2(dl0))\n",
        "        dl2 = torch.relu(self.fc3(dl1))\n",
        "        dl2 = self.dropout(dl2)\n",
        "        dense_output = torch.sigmoid(self.fc4(dl2))  # Use sigmoid activation for binary output\n",
        "\n",
        "        return dense_output, hidden, cell\n",
        "\n",
        "\n",
        "\n"
      ],
      "metadata": {
        "id": "XzWrGuyM6vEQ"
      },
      "execution_count": null,
      "outputs": []
    },
    {
      "cell_type": "code",
      "source": [
        "\n",
        "input_dim = vocab_size_vn  # Input dimension\n",
        "encoder_model = Encoder(vocab_size_vn, hiddvn_dim)\n",
        "decoder_model = Decoder(vocab_size_en, hiddvn_dim, vocab_size_en)\n",
        "\n",
        "print(encoder_model)\n",
        "print(decoder_model)"
      ],
      "metadata": {
        "colab": {
          "base_uri": "https://localhost:8080/"
        },
        "id": "f9yDtmQs-KXN",
        "outputId": "03f474eb-d796-4196-c8cd-a33d5dff9f04"
      },
      "execution_count": null,
      "outputs": [
        {
          "output_type": "stream",
          "name": "stdout",
          "text": [
            "Encoder(\n",
            "  (embedding_en): Embedding(402, 128)\n",
            "  (encoder_lstm): LSTM(128, 128, batch_first=True, bidirectional=True)\n",
            ")\n",
            "Decoder(\n",
            "  (embedding_vn): Embedding(603, 128)\n",
            "  (decoder_lstm): LSTM(128, 256, batch_first=True)\n",
            "  (attention): AttentionLayer(\n",
            "    (attn): Linear(in_features=512, out_features=256, bias=True)\n",
            "  )\n",
            "  (fc1): Linear(in_features=512, out_features=2048, bias=True)\n",
            "  (fc2): Linear(in_features=2048, out_features=1024, bias=True)\n",
            "  (fc3): Linear(in_features=1024, out_features=512, bias=True)\n",
            "  (fc4): Linear(in_features=512, out_features=603, bias=True)\n",
            "  (dropout): Dropout(p=0.4, inplace=False)\n",
            ")\n"
          ]
        }
      ]
    },
    {
      "cell_type": "markdown",
      "source": [
        "#Training"
      ],
      "metadata": {
        "id": "27ay3ztn_JPX"
      }
    },
    {
      "cell_type": "markdown",
      "source": [
        "##functions"
      ],
      "metadata": {
        "id": "cJLI8WejxumR"
      }
    },
    {
      "cell_type": "code",
      "source": [
        "def save_checkpoint(model, epoch, optimizer, loss, filepath):\n",
        "    state = {\n",
        "        'epoch': epoch,\n",
        "        'model_state_dict': model.state_dict(),\n",
        "        'optimizer_state_dict': optimizer.state_dict(),\n",
        "        'loss': loss\n",
        "    }\n",
        "    torch.save(state, filepath)\n",
        "\n",
        "def train_model(model, train_loader, val_loader, criterion, optimizer, epochs, file):\n",
        "    device = torch.device('cuda' if torch.cuda.is_available() else 'cpu')\n",
        "    model.to(device)\n",
        "    lost_o_time=[]\n",
        "    for epoch in range(epochs):\n",
        "        model.train()\n",
        "        train_loss = 0\n",
        "        for vn_input, en_input, en_target in train_loader:\n",
        "            vn_input, en_input, en_target = vn_input.to(device), en_input.to(device), en_target.to(device)\n",
        "            optimizer.zero_grad()\n",
        "            output = model(vn_input, en_input)\n",
        "            loss = criterion(output.view(-1, output.shape[-1]), en_target.view(-1, en_target.shape[-1]))\n",
        "            loss.backward()\n",
        "            optimizer.step()\n",
        "            train_loss += loss.item()\n",
        "\n",
        "        train_loss /= len(train_loader)\n",
        "\n",
        "        val_loss = evaluate_model(model, val_loader, criterion, device)\n",
        "\n",
        "        checkpoint_path = os.path.join(base_dir, file)\n",
        "        save_checkpoint(model, epoch+1, optimizer, val_loss, checkpoint_path)\n",
        "\n",
        "        print(f'Epoch {epoch+1}/{epochs}, Train Loss: {train_loss:.4f}, Val Loss: {val_loss:.4f}')\n",
        "        lost_o_time.append((train_loss,val_loss))\n",
        "    return lost_o_time\n",
        "\n",
        "def evaluate_model(model, val_loader, criterion , device):\n",
        "    model.eval()\n",
        "    val_loss = 0\n",
        "    with torch.no_grad():\n",
        "        for vn_input, en_input, en_target in val_loader:\n",
        "            vn_input, en_input, en_target = vn_input.to(device), en_input.to(device), en_target.to(device)\n",
        "            output = model(vn_input, en_input)\n",
        "            loss = criterion(output.view(-1, output.shape[-1]), en_target.view(-1, en_target.shape[-1]))\n",
        "            val_loss += loss.item()\n",
        "    return val_loss / len(val_loader)\n",
        "\n",
        "def load_checkpoint(filepath, model, optimizer=None):\n",
        "    checkpoint = torch.load(filepath)\n",
        "    model.load_state_dict(checkpoint['model_state_dict'])\n",
        "    if optimizer:\n",
        "        optimizer.load_state_dict(checkpoint['optimizer_state_dict'])\n",
        "    epoch = checkpoint['epoch']\n",
        "    loss = checkpoint['loss']\n",
        "    return model, optimizer, epoch, loss\n",
        "\n",
        "\n"
      ],
      "metadata": {
        "id": "QmfUBQ3ZVzRn"
      },
      "execution_count": null,
      "outputs": []
    },
    {
      "cell_type": "markdown",
      "source": [
        "##exercution"
      ],
      "metadata": {
        "id": "alJ6ZCBaxzEu"
      }
    },
    {
      "cell_type": "code",
      "source": [
        "hiddvn_dim=128\n",
        "model_non_att = LSTM_vncode_decode_Model(vocab_size_vn, vocab_size_en, hiddvn_dim, vn_max_len)\n",
        "model_att = LSTM_vncode_decode_Model(vocab_size_vn, vocab_size_en, hiddvn_dim, vn_max_len, att=True)\n",
        "# Data loading\n",
        "batch_size = 100\n",
        "epochs = 5\n",
        "validation_split = 0.3\n",
        "dataset = TensorDataset(train_vn_X, train_en_X, train_en_Y)\n",
        "val_size = int(len(dataset) * validation_split)\n",
        "train_size = len(dataset) - val_size\n",
        "train_dataset, val_dataset = torch.utils.data.random_split(dataset, [train_size, val_size])\n",
        "train_loader = DataLoader(train_dataset, batch_size=batch_size, shuffle=True)\n",
        "val_loader = DataLoader(val_dataset, batch_size=batch_size)\n",
        "\n",
        "# Model, criterion, optimizer\n",
        "criterion = nn.BCEWithLogitsLoss()\n",
        "optimizer = optim.Adam(model_att.parameters())\n",
        "\n",
        "checkpoint_att =  f'att.pt'\n",
        "checkpoint_non_att = f'non_att.pt'\n",
        "\n",
        "\n"
      ],
      "metadata": {
        "id": "t7rn9pXPu5Up"
      },
      "execution_count": null,
      "outputs": []
    },
    {
      "cell_type": "code",
      "source": [
        "# Train the model\n",
        "loss = train_model(model_att, train_loader, val_loader, criterion, optimizer, epochs=epochs, file=checkpoint_att)"
      ],
      "metadata": {
        "colab": {
          "base_uri": "https://localhost:8080/"
        },
        "id": "1R6zfOcFvx1o",
        "outputId": "611e5856-925a-4983-8605-2ee4e492549d"
      },
      "execution_count": null,
      "outputs": [
        {
          "output_type": "stream",
          "name": "stdout",
          "text": [
            "Epoch 1/5, Train Loss: 0.8319, Val Loss: 0.6931\n",
            "Epoch 2/5, Train Loss: 0.6931, Val Loss: 0.6930\n",
            "Epoch 3/5, Train Loss: 0.6930, Val Loss: 0.6930\n",
            "Epoch 4/5, Train Loss: 0.6930, Val Loss: 0.6930\n",
            "Epoch 5/5, Train Loss: 0.6930, Val Loss: 0.6930\n"
          ]
        }
      ]
    },
    {
      "cell_type": "code",
      "source": [
        "loss2 = train_model(model_non_att, train_loader, val_loader, criterion, optimizer, epochs=epochs, file=checkpoint_non_att)"
      ],
      "metadata": {
        "colab": {
          "base_uri": "https://localhost:8080/"
        },
        "id": "7SXNRjXL6Z_4",
        "outputId": "ac67b86a-80da-48d3-fd02-f89426b7ec02"
      },
      "execution_count": null,
      "outputs": [
        {
          "output_type": "stream",
          "name": "stdout",
          "text": [
            "Epoch 1/5, Train Loss: 0.9733, Val Loss: 0.9733\n",
            "Epoch 2/5, Train Loss: 0.9733, Val Loss: 0.9733\n",
            "Epoch 3/5, Train Loss: 0.9733, Val Loss: 0.9733\n",
            "Epoch 4/5, Train Loss: 0.9733, Val Loss: 0.9733\n",
            "Epoch 5/5, Train Loss: 0.9733, Val Loss: 0.9733\n"
          ]
        }
      ]
    },
    {
      "cell_type": "code",
      "source": [
        "#load train process\n",
        "model_att, optimizer, epoch, loss = load_checkpoint(checkpoint_att, model_att, optimizer)\n",
        "print(f\"Model loaded from epoch {epoch}, with validation loss of {loss:.4f}\")\n"
      ],
      "metadata": {
        "id": "H3aExhiSvFiw"
      },
      "execution_count": null,
      "outputs": []
    },
    {
      "cell_type": "markdown",
      "source": [
        "compare loss"
      ],
      "metadata": {
        "id": "L6r5o2QU7Rdv"
      }
    },
    {
      "cell_type": "code",
      "source": [
        "import matplotlib.pyplot as plt\n",
        "\n",
        "tra_loss = [i[0] for i in loss]\n",
        "val_loss = [i[1] for i in loss]\n",
        "tra_loss2 = [i[0] for i in loss2]\n",
        "val_loss2 = [i[1] for i in loss2]\n",
        "\n",
        "plt.subplot(1, 2, 1)\n",
        "plt.plot(range(epochs), tra_loss, label = \"Training\")\n",
        "plt.plot(range(epochs), val_loss, label = \"Validation\")\n",
        "plt.xlabel('epoch')\n",
        "plt.title('with attention')\n",
        "\n",
        "plt.subplot(1, 2, 2)\n",
        "plt.plot(range(epochs), tra_loss2, label = \"Training\")\n",
        "plt.plot(range(epochs), val_loss2, label = \"Validation\")\n",
        "plt.xlabel('epoch')\n",
        "plt.title('without attention')\n",
        "\n",
        "plt.legend()\n",
        "\n",
        "plt.tight_layout()\n",
        "\n",
        "plt.show()"
      ],
      "metadata": {
        "colab": {
          "base_uri": "https://localhost:8080/",
          "height": 487
        },
        "id": "HQKe0Pay44Ie",
        "outputId": "affe8247-dd8d-44db-d51d-d75c1f887508"
      },
      "execution_count": null,
      "outputs": [
        {
          "output_type": "display_data",
          "data": {
            "text/plain": [
              "<Figure size 640x480 with 2 Axes>"
            ],
            "image/png": "[encoded data removed]"
          },
          "metadata": {}
        }
      ]
    },
    {
      "cell_type": "markdown",
      "source": [
        "#evaluation"
      ],
      "metadata": {
        "id": "UNj_t3uJxlwr"
      }
    }
  ]
}