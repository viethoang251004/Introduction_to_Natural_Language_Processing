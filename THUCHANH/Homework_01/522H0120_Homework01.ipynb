{
  "nbformat": 4,
  "nbformat_minor": 0,
  "metadata": {
    "colab": {
      "provenance": []
    },
    "kernelspec": {
      "name": "python3",
      "display_name": "Python 3"
    },
    "language_info": {
      "name": "python"
    }
  },
  "cells": [
    {
      "cell_type": "code",
      "execution_count": 1,
      "metadata": {
        "id": "14UdFzKKPFYS"
      },
      "outputs": [],
      "source": [
        "import math\n",
        "from collections import defaultdict, Counter"
      ]
    },
    {
      "cell_type": "code",
      "source": [
        "# Tách từ từ một mẫu văn bản và tập kiểm tra\n",
        "corpus = \"Tôi yêu xử lý ngôn ngữ tự nhiên và tôi yêu học sâu\".split()\n",
        "test_set = \"Tôi yêu học sâu\".split()"
      ],
      "metadata": {
        "id": "_143GAv3Qju2"
      },
      "execution_count": 2,
      "outputs": []
    },
    {
      "cell_type": "code",
      "source": [
        "# Mô hình 1-gram (Unigram)\n",
        "unigram_counts = Counter(corpus)\n",
        "total_words = len(corpus)\n",
        "def unigram_prob(word):\n",
        "    return unigram_counts[word] / total_words"
      ],
      "metadata": {
        "id": "r7skPdbCQlvj"
      },
      "execution_count": 3,
      "outputs": []
    },
    {
      "cell_type": "code",
      "source": [
        "# Tính perplexity cho mô hình Unigram\n",
        "def unigram_perplexity(test_set):\n",
        "    N = len(test_set)\n",
        "    log_prob_sum = 0\n",
        "    for word in test_set:\n",
        "        prob = unigram_prob(word)\n",
        "        log_prob_sum += math.log2(prob)\n",
        "    perplexity = 2 ** (-log_prob_sum / N)\n",
        "    return perplexity"
      ],
      "metadata": {
        "id": "mlJ63TjtQxkX"
      },
      "execution_count": 4,
      "outputs": []
    },
    {
      "cell_type": "code",
      "source": [
        "# Tính xác suất của một câu với mô hình Unigram\n",
        "def unigram_sentence_prob(sentence):\n",
        "    prob = 1.0\n",
        "    for word in sentence:\n",
        "        prob *= unigram_prob(word)\n",
        "    return prob"
      ],
      "metadata": {
        "id": "-w0oG8QgQ3Ft"
      },
      "execution_count": 5,
      "outputs": []
    },
    {
      "cell_type": "code",
      "source": [
        "# Mô hình 2-gram (Bigram)\n",
        "bigram_counts = defaultdict(int)\n",
        "for i in range(len(corpus) - 1):\n",
        "    bigram_counts[(corpus[i], corpus[i+1])] += 1\n",
        "word_counts = Counter(corpus)\n",
        "def bigram_prob(w1, w2):\n",
        "    return bigram_counts[(w1, w2)] / word_counts[w1]"
      ],
      "metadata": {
        "id": "8iI8_L85QoHz"
      },
      "execution_count": 6,
      "outputs": []
    },
    {
      "cell_type": "code",
      "source": [
        "# Tính perplexity cho mô hình Bigram\n",
        "def bigram_perplexity(test_set):\n",
        "    N = len(test_set)\n",
        "    log_prob_sum = 0\n",
        "    for i in range(1, N):\n",
        "        prob = bigram_prob(test_set[i-1], test_set[i])\n",
        "        log_prob_sum += math.log2(prob)\n",
        "    perplexity = 2 ** (-log_prob_sum / (N-1))\n",
        "    return perplexity"
      ],
      "metadata": {
        "id": "wTlrWaI8Qqxi"
      },
      "execution_count": 7,
      "outputs": []
    },
    {
      "cell_type": "code",
      "source": [
        "# Tính xác suất của một câu với mô hình Bigram\n",
        "def bigram_sentence_prob(sentence):\n",
        "    prob = bigram_prob(sentence[0], sentence[1])\n",
        "    for i in range(2, len(sentence)):\n",
        "        prob *= bigram_prob(sentence[i-1], sentence[i])\n",
        "    return prob"
      ],
      "metadata": {
        "id": "8VJMNx34Q98T"
      },
      "execution_count": 8,
      "outputs": []
    },
    {
      "cell_type": "code",
      "source": [
        "# Kiểm tra\n",
        "unigram_perplexity_value = unigram_perplexity(test_set)\n",
        "bigram_perplexity_value = bigram_perplexity(test_set)\n",
        "unigram_sentence_probability = unigram_sentence_prob(test_set)\n",
        "bigram_sentence_probability = bigram_sentence_prob(test_set)\n",
        "\n",
        "unigram_perplexity_value, bigram_perplexity_value, unigram_sentence_probability, bigram_sentence_probability"
      ],
      "metadata": {
        "colab": {
          "base_uri": "https://localhost:8080/"
        },
        "id": "rvKGTvyfRBgX",
        "outputId": "178fdcc3-3e24-4ee3-9dc4-cb1892772a40"
      },
      "execution_count": 9,
      "outputs": [
        {
          "output_type": "execute_result",
          "data": {
            "text/plain": [
              "(10.93165339829829, 1.2599210498948732, 7.002555932915516e-05, 0.5)"
            ]
          },
          "metadata": {},
          "execution_count": 9
        }
      ]
    }
  ]
}