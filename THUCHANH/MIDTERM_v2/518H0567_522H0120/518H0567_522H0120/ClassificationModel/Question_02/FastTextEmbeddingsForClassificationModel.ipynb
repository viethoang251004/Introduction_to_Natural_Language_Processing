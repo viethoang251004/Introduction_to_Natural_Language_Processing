{
 "cells": [
  {
   "cell_type": "markdown",
   "metadata": {
    "id": "01tPaclmtfky"
   },
   "source": [
    "# Step 1: Install and Load FastText\n",
    "First, install the fasttext library and download a pretrained FastText model if you haven't done so already:"
   ]
  },
  {
   "cell_type": "code",
   "execution_count": null,
   "metadata": {
    "colab": {
     "base_uri": "https://localhost:8080/"
    },
    "id": "jVNEppOPrkeg",
    "outputId": "ac2b9802-86af-4e74-e650-f1d04b48540a"
   },
   "outputs": [
    {
     "name": "stdout",
     "output_type": "stream",
     "text": [
      "Collecting fasttext\n",
      "  Using cached fasttext-0.9.3.tar.gz (73 kB)\n",
      "  Installing build dependencies: started\n",
      "  Installing build dependencies: finished with status 'done'\n",
      "  Getting requirements to build wheel: started\n",
      "  Getting requirements to build wheel: finished with status 'done'\n",
      "  Preparing metadata (pyproject.toml): started\n",
      "  Preparing metadata (pyproject.toml): finished with status 'done'\n",
      "Collecting pybind11>=2.2 (from fasttext)\n",
      "  Using cached pybind11-2.13.6-py3-none-any.whl.metadata (9.5 kB)\n",
      "Requirement already satisfied: setuptools>=0.7.0 in c:\\users\\msi\\.conda\\envs\\hoangenvironment\\lib\\site-packages (from fasttext) (75.1.0)\n",
      "Collecting numpy (from fasttext)\n",
      "  Using cached numpy-2.1.3-cp313-cp313-win_amd64.whl.metadata (60 kB)\n",
      "Using cached pybind11-2.13.6-py3-none-any.whl (243 kB)\n",
      "Using cached numpy-2.1.3-cp313-cp313-win_amd64.whl (12.6 MB)\n",
      "Building wheels for collected packages: fasttext\n",
      "  Building wheel for fasttext (pyproject.toml): started\n",
      "  Building wheel for fasttext (pyproject.toml): finished with status 'error'\n",
      "Failed to build fasttext\n",
      "Note: you may need to restart the kernel to use updated packages.\n"
     ]
    },
    {
     "name": "stderr",
     "output_type": "stream",
     "text": [
      "  error: subprocess-exited-with-error\n",
      "  \n",
      "  × Building wheel for fasttext (pyproject.toml) did not run successfully.\n",
      "  │ exit code: 1\n",
      "  ╰─> [119 lines of output]\n",
      "      C:\\Users\\MSI\\AppData\\Local\\Temp\\pip-build-env-dnrp1lkz\\overlay\\Lib\\site-packages\\setuptools\\dist.py:495: SetuptoolsDeprecationWarning: Invalid dash-separated options\n",
      "      !!\n",
      "      \n",
      "              ********************************************************************************\n",
      "              Usage of dash-separated 'description-file' will not be supported in future\n",
      "              versions. Please use the underscore name 'description_file' instead.\n",
      "      \n",
      "              By 2025-Mar-03, you need to update your project and remove deprecated calls\n",
      "              or your builds will no longer be supported.\n",
      "      \n",
      "              See https://setuptools.pypa.io/en/latest/userguide/declarative_config.html for details.\n",
      "              ********************************************************************************\n",
      "      \n",
      "      !!\n",
      "        opt = self.warn_dash_deprecation(opt, section)\n",
      "      running bdist_wheel\n",
      "      running build\n",
      "      running build_py\n",
      "      creating build\\lib.win-amd64-cpython-313\\fasttext\n",
      "      copying python\\fasttext_module\\fasttext\\FastText.py -> build\\lib.win-amd64-cpython-313\\fasttext\n",
      "      copying python\\fasttext_module\\fasttext\\__init__.py -> build\\lib.win-amd64-cpython-313\\fasttext\n",
      "      creating build\\lib.win-amd64-cpython-313\\fasttext\\util\n",
      "      copying python\\fasttext_module\\fasttext\\util\\util.py -> build\\lib.win-amd64-cpython-313\\fasttext\\util\n",
      "      copying python\\fasttext_module\\fasttext\\util\\__init__.py -> build\\lib.win-amd64-cpython-313\\fasttext\\util\n",
      "      creating build\\lib.win-amd64-cpython-313\\fasttext\\tests\n",
      "      copying python\\fasttext_module\\fasttext\\tests\\test_configurations.py -> build\\lib.win-amd64-cpython-313\\fasttext\\tests\n",
      "      copying python\\fasttext_module\\fasttext\\tests\\test_script.py -> build\\lib.win-amd64-cpython-313\\fasttext\\tests\n",
      "      copying python\\fasttext_module\\fasttext\\tests\\__init__.py -> build\\lib.win-amd64-cpython-313\\fasttext\\tests\n",
      "      running build_ext\n",
      "      building 'fasttext_pybind' extension\n",
      "      creating build\\temp.win-amd64-cpython-313\\Release\\python\\fasttext_module\\fasttext\\pybind\n",
      "      creating build\\temp.win-amd64-cpython-313\\Release\\src\n",
      "      \"C:\\Program Files\\Microsoft Visual Studio\\2022\\Community\\VC\\Tools\\MSVC\\14.41.34120\\bin\\HostX86\\x64\\cl.exe\" /c /nologo /O2 /W3 /GL /DNDEBUG /MD -IC:\\Users\\MSI\\AppData\\Local\\Temp\\pip-build-env-dnrp1lkz\\overlay\\Lib\\site-packages\\pybind11\\include -IC:\\Users\\MSI\\AppData\\Local\\Temp\\pip-build-env-dnrp1lkz\\overlay\\Lib\\site-packages\\pybind11\\include -Isrc -Ic:\\Users\\MSI\\.conda\\envs\\HoangEnvironment\\include -Ic:\\Users\\MSI\\.conda\\envs\\HoangEnvironment\\Include \"-IC:\\Program Files\\Microsoft Visual Studio\\2022\\Community\\VC\\Tools\\MSVC\\14.41.34120\\include\" \"-IC:\\Program Files\\Microsoft Visual Studio\\2022\\Community\\VC\\Tools\\MSVC\\14.41.34120\\ATLMFC\\include\" \"-IC:\\Program Files\\Microsoft Visual Studio\\2022\\Community\\VC\\Auxiliary\\VS\\include\" \"-IC:\\Program Files (x86)\\Windows Kits\\10\\include\\10.0.22621.0\\ucrt\" \"-IC:\\Program Files (x86)\\Windows Kits\\10\\\\include\\10.0.22621.0\\\\um\" \"-IC:\\Program Files (x86)\\Windows Kits\\10\\\\include\\10.0.22621.0\\\\shared\" \"-IC:\\Program Files (x86)\\Windows Kits\\10\\\\include\\10.0.22621.0\\\\winrt\" \"-IC:\\Program Files (x86)\\Windows Kits\\10\\\\include\\10.0.22621.0\\\\cppwinrt\" \"-IC:\\Program Files (x86)\\Windows Kits\\NETFXSDK\\4.8\\include\\um\" /EHsc /Tppython/fasttext_module/fasttext/pybind/fasttext_pybind.cc /Fobuild\\temp.win-amd64-cpython-313\\Release\\python/fasttext_module/fasttext/pybind/fasttext_pybind.obj /EHsc /DVERSION_INFO=\\\\\\\"0.9.3\\\\\\\"\n",
      "      fasttext_pybind.cc\n",
      "      C:\\Program Files\\Microsoft Visual Studio\\2022\\Community\\VC\\Tools\\MSVC\\14.41.34120\\include\\string_view(12): warning STL4038: The contents of <string_view> are available only with C++17 or later.\n",
      "      C:\\Users\\MSI\\AppData\\Local\\Temp\\pip-install-zu2ms_cz\\fasttext_3fea6a89e9be4e629c89c80359277646\\src\\dictionary.h(40): error C2039: 'string_view': is not a member of 'std'\n",
      "      C:\\Program Files\\Microsoft Visual Studio\\2022\\Community\\VC\\Tools\\MSVC\\14.41.34120\\include\\unordered_map(23): note: see declaration of 'std'\n",
      "      C:\\Users\\MSI\\AppData\\Local\\Temp\\pip-install-zu2ms_cz\\fasttext_3fea6a89e9be4e629c89c80359277646\\src\\dictionary.h(40): error C4430: missing type specifier - int assumed. Note: C++ does not support default-int\n",
      "      C:\\Users\\MSI\\AppData\\Local\\Temp\\pip-install-zu2ms_cz\\fasttext_3fea6a89e9be4e629c89c80359277646\\src\\dictionary.h(41): error C2039: 'string_view': is not a member of 'std'\n",
      "      C:\\Program Files\\Microsoft Visual Studio\\2022\\Community\\VC\\Tools\\MSVC\\14.41.34120\\include\\unordered_map(23): note: see declaration of 'std'\n",
      "      C:\\Users\\MSI\\AppData\\Local\\Temp\\pip-install-zu2ms_cz\\fasttext_3fea6a89e9be4e629c89c80359277646\\src\\dictionary.h(41): error C4430: missing type specifier - int assumed. Note: C++ does not support default-int\n",
      "      C:\\Users\\MSI\\AppData\\Local\\Temp\\pip-install-zu2ms_cz\\fasttext_3fea6a89e9be4e629c89c80359277646\\src\\dictionary.h(46): error C2039: 'string_view': is not a member of 'std'\n",
      "      C:\\Program Files\\Microsoft Visual Studio\\2022\\Community\\VC\\Tools\\MSVC\\14.41.34120\\include\\unordered_map(23): note: see declaration of 'std'\n",
      "      C:\\Users\\MSI\\AppData\\Local\\Temp\\pip-install-zu2ms_cz\\fasttext_3fea6a89e9be4e629c89c80359277646\\src\\dictionary.h(46): error C4430: missing type specifier - int assumed. Note: C++ does not support default-int\n",
      "      C:\\Users\\MSI\\AppData\\Local\\Temp\\pip-install-zu2ms_cz\\fasttext_3fea6a89e9be4e629c89c80359277646\\src\\dictionary.h(75): error C2039: 'string_view': is not a member of 'std'\n",
      "      C:\\Program Files\\Microsoft Visual Studio\\2022\\Community\\VC\\Tools\\MSVC\\14.41.34120\\include\\unordered_map(23): note: see declaration of 'std'\n",
      "      C:\\Users\\MSI\\AppData\\Local\\Temp\\pip-install-zu2ms_cz\\fasttext_3fea6a89e9be4e629c89c80359277646\\src\\dictionary.h(75): error C4430: missing type specifier - int assumed. Note: C++ does not support default-int\n",
      "      C:\\Users\\MSI\\AppData\\Local\\Temp\\pip-install-zu2ms_cz\\fasttext_3fea6a89e9be4e629c89c80359277646\\src\\dictionary.h(76): error C2039: 'string_view': is not a member of 'std'\n",
      "      C:\\Program Files\\Microsoft Visual Studio\\2022\\Community\\VC\\Tools\\MSVC\\14.41.34120\\include\\unordered_map(23): note: see declaration of 'std'\n",
      "      C:\\Users\\MSI\\AppData\\Local\\Temp\\pip-install-zu2ms_cz\\fasttext_3fea6a89e9be4e629c89c80359277646\\src\\dictionary.h(76): error C4430: missing type specifier - int assumed. Note: C++ does not support default-int\n",
      "      C:\\Users\\MSI\\AppData\\Local\\Temp\\pip-install-zu2ms_cz\\fasttext_3fea6a89e9be4e629c89c80359277646\\src\\dictionary.h(78): error C2039: 'string_view': is not a member of 'std'\n",
      "      C:\\Program Files\\Microsoft Visual Studio\\2022\\Community\\VC\\Tools\\MSVC\\14.41.34120\\include\\unordered_map(23): note: see declaration of 'std'\n",
      "      C:\\Users\\MSI\\AppData\\Local\\Temp\\pip-install-zu2ms_cz\\fasttext_3fea6a89e9be4e629c89c80359277646\\src\\dictionary.h(78): error C4430: missing type specifier - int assumed. Note: C++ does not support default-int\n",
      "      C:\\Users\\MSI\\AppData\\Local\\Temp\\pip-install-zu2ms_cz\\fasttext_3fea6a89e9be4e629c89c80359277646\\src\\dictionary.h(78): error C2535: 'fasttext::entry_type fasttext::Dictionary::getType(int32_t) const': member function already defined or declared\n",
      "      C:\\Users\\MSI\\AppData\\Local\\Temp\\pip-install-zu2ms_cz\\fasttext_3fea6a89e9be4e629c89c80359277646\\src\\dictionary.h(77): note: see declaration of 'fasttext::Dictionary::getType'\n",
      "      C:\\Users\\MSI\\AppData\\Local\\Temp\\pip-install-zu2ms_cz\\fasttext_3fea6a89e9be4e629c89c80359277646\\src\\dictionary.h(91): error C2039: 'string_view': is not a member of 'std'\n",
      "      C:\\Program Files\\Microsoft Visual Studio\\2022\\Community\\VC\\Tools\\MSVC\\14.41.34120\\include\\unordered_map(23): note: see declaration of 'std'\n",
      "      C:\\Users\\MSI\\AppData\\Local\\Temp\\pip-install-zu2ms_cz\\fasttext_3fea6a89e9be4e629c89c80359277646\\src\\dictionary.h(91): error C4430: missing type specifier - int assumed. Note: C++ does not support default-int\n",
      "      C:\\Users\\MSI\\AppData\\Local\\Temp\\pip-install-zu2ms_cz\\fasttext_3fea6a89e9be4e629c89c80359277646\\src\\dictionary.h(91): error C2146: syntax error: missing ')' before identifier 'str'\n",
      "      C:\\Users\\MSI\\AppData\\Local\\Temp\\pip-install-zu2ms_cz\\fasttext_3fea6a89e9be4e629c89c80359277646\\src\\dictionary.h(91): error C3646: 'str': unknown override specifier\n",
      "      C:\\Users\\MSI\\AppData\\Local\\Temp\\pip-install-zu2ms_cz\\fasttext_3fea6a89e9be4e629c89c80359277646\\src\\dictionary.h(91): error C2059: syntax error: ')'\n",
      "      C:\\Users\\MSI\\AppData\\Local\\Temp\\pip-install-zu2ms_cz\\fasttext_3fea6a89e9be4e629c89c80359277646\\src\\dictionary.h(91): error C2143: syntax error: missing ';' before 'const'\n",
      "      C:\\Users\\MSI\\AppData\\Local\\Temp\\pip-install-zu2ms_cz\\fasttext_3fea6a89e9be4e629c89c80359277646\\src\\dictionary.h(91): error C4430: missing type specifier - int assumed. Note: C++ does not support default-int\n",
      "      C:\\Users\\MSI\\AppData\\Local\\Temp\\pip-install-zu2ms_cz\\fasttext_3fea6a89e9be4e629c89c80359277646\\src\\dictionary.h(91): error C2208: 'const int': no members defined using this type\n",
      "      C:\\Users\\MSI\\AppData\\Local\\Temp\\pip-install-zu2ms_cz\\fasttext_3fea6a89e9be4e629c89c80359277646\\src\\dictionary.h(91): warning C4091: ' ': ignored on left of 'const int' when no variable is declared\n",
      "      C:\\Users\\MSI\\AppData\\Local\\Temp\\pip-install-zu2ms_cz\\fasttext_3fea6a89e9be4e629c89c80359277646\\src\\dictionary.h(103): error C2039: 'string_view': is not a member of 'std'\n",
      "      C:\\Program Files\\Microsoft Visual Studio\\2022\\Community\\VC\\Tools\\MSVC\\14.41.34120\\include\\unordered_map(23): note: see declaration of 'std'\n",
      "      C:\\Users\\MSI\\AppData\\Local\\Temp\\pip-install-zu2ms_cz\\fasttext_3fea6a89e9be4e629c89c80359277646\\src\\dictionary.h(103): error C2061: syntax error: identifier 'string_view'\n",
      "      python/fasttext_module/fasttext/pybind/fasttext_pybind.cc(71): error C2662: 'uint32_t fasttext::Dictionary::hash(const int)': cannot convert 'this' pointer from '_Ty2' to 'fasttext::Dictionary &'\n",
      "              with\n",
      "              [\n",
      "                  _Ty2=const fasttext::Dictionary\n",
      "              ]\n",
      "      python/fasttext_module/fasttext/pybind/fasttext_pybind.cc(71): note: Conversion loses qualifiers\n",
      "      C:\\Users\\MSI\\AppData\\Local\\Temp\\pip-install-zu2ms_cz\\fasttext_3fea6a89e9be4e629c89c80359277646\\src\\dictionary.h(91): note: see declaration of 'fasttext::Dictionary::hash'\n",
      "      python/fasttext_module/fasttext/pybind/fasttext_pybind.cc(71): note: while trying to match the argument list '(std::string)'\n",
      "      python/fasttext_module/fasttext/pybind/fasttext_pybind.cc(72): error C2665: 'fasttext::Dictionary::getId': no overloaded function could convert all the argument types\n",
      "      C:\\Users\\MSI\\AppData\\Local\\Temp\\pip-install-zu2ms_cz\\fasttext_3fea6a89e9be4e629c89c80359277646\\src\\dictionary.h(76): note: could be 'int32_t fasttext::Dictionary::getId(const int,uint32_t) const'\n",
      "      python/fasttext_module/fasttext/pybind/fasttext_pybind.cc(72): note: 'int32_t fasttext::Dictionary::getId(const int,uint32_t) const': cannot convert argument 1 from 'std::string' to 'const int'\n",
      "      python/fasttext_module/fasttext/pybind/fasttext_pybind.cc(72): note: No user-defined-conversion operator available that can perform this conversion, or the operator cannot be called\n",
      "      python/fasttext_module/fasttext/pybind/fasttext_pybind.cc(72): note: while trying to match the argument list '(std::string, uint32_t)'\n",
      "      python/fasttext_module/fasttext/pybind/fasttext_pybind.cc(73): error C2664: 'fasttext::entry_type fasttext::Dictionary::getType(int32_t) const': cannot convert argument 1 from 'std::string' to 'int32_t'\n",
      "      python/fasttext_module/fasttext/pybind/fasttext_pybind.cc(73): note: No user-defined-conversion operator available that can perform this conversion, or the operator cannot be called\n",
      "      C:\\Users\\MSI\\AppData\\Local\\Temp\\pip-install-zu2ms_cz\\fasttext_3fea6a89e9be4e629c89c80359277646\\src\\dictionary.h(77): note: see declaration of 'fasttext::Dictionary::getType'\n",
      "      python/fasttext_module/fasttext/pybind/fasttext_pybind.cc(73): note: while trying to match the argument list '(std::string)'\n",
      "      python/fasttext_module/fasttext/pybind/fasttext_pybind.cc(172): error C2065: 'ssize_t': undeclared identifier\n",
      "      python/fasttext_module/fasttext/pybind/fasttext_pybind.cc(172): error C2672: 'pybind11::init': no matching overloaded function found\n",
      "      C:\\Users\\MSI\\AppData\\Local\\Temp\\pip-build-env-dnrp1lkz\\overlay\\Lib\\site-packages\\pybind11\\include\\pybind11\\pybind11.h(1978): note: could be 'Ret pybind11::init(CFunc &&,AFunc &&)'\n",
      "      python/fasttext_module/fasttext/pybind/fasttext_pybind.cc(172): note: 'pybind11::init': invalid template argument for 'CFunc', type expected\n",
      "      C:\\Users\\MSI\\AppData\\Local\\Temp\\pip-build-env-dnrp1lkz\\overlay\\Lib\\site-packages\\pybind11\\include\\pybind11\\pybind11.h(1970): note: or       'Ret pybind11::init(Func &&)'\n",
      "      python/fasttext_module/fasttext/pybind/fasttext_pybind.cc(172): note: 'pybind11::init': invalid template argument for 'Func', type expected\n",
      "      C:\\Users\\MSI\\AppData\\Local\\Temp\\pip-build-env-dnrp1lkz\\overlay\\Lib\\site-packages\\pybind11\\include\\pybind11\\pybind11.h(1958): note: or       'pybind11::detail::initimpl::constructor<Args...> pybind11::init(void)'\n",
      "      python/fasttext_module/fasttext/pybind/fasttext_pybind.cc(172): note: 'pybind11::init': invalid template argument for 'Args', type expected\n",
      "      python/fasttext_module/fasttext/pybind/fasttext_pybind.cc(172): error C2672: 'pybind11::class_<fasttext::Vector>::def': no matching overloaded function found\n",
      "      C:\\Users\\MSI\\AppData\\Local\\Temp\\pip-build-env-dnrp1lkz\\overlay\\Lib\\site-packages\\pybind11\\include\\pybind11\\pybind11.h(1677): note: could be 'pybind11::class_<fasttext::Vector> &pybind11::class_<fasttext::Vector>::def(pybind11::detail::initimpl::pickle_factory<Args...> &&,const Extra ...)'\n",
      "      C:\\Users\\MSI\\AppData\\Local\\Temp\\pip-build-env-dnrp1lkz\\overlay\\Lib\\site-packages\\pybind11\\include\\pybind11\\pybind11.h(1671): note: or       'pybind11::class_<fasttext::Vector> &pybind11::class_<fasttext::Vector>::def(pybind11::detail::initimpl::factory<Args...> &&,const Extra ...)'\n",
      "      C:\\Users\\MSI\\AppData\\Local\\Temp\\pip-build-env-dnrp1lkz\\overlay\\Lib\\site-packages\\pybind11\\include\\pybind11\\pybind11.h(1664): note: or       'pybind11::class_<fasttext::Vector> &pybind11::class_<fasttext::Vector>::def(const pybind11::detail::initimpl::alias_constructor<Args...> &,const Extra ...)'\n",
      "      C:\\Users\\MSI\\AppData\\Local\\Temp\\pip-build-env-dnrp1lkz\\overlay\\Lib\\site-packages\\pybind11\\include\\pybind11\\pybind11.h(1657): note: or       'pybind11::class_<fasttext::Vector> &pybind11::class_<fasttext::Vector>::def(const pybind11::detail::initimpl::constructor<Args...> &,const Extra ...)'\n",
      "      C:\\Users\\MSI\\AppData\\Local\\Temp\\pip-build-env-dnrp1lkz\\overlay\\Lib\\site-packages\\pybind11\\include\\pybind11\\pybind11.h(1645): note: or       'pybind11::class_<fasttext::Vector> &pybind11::class_<fasttext::Vector>::def(const T &,const Extra ...)'\n",
      "      C:\\Users\\MSI\\AppData\\Local\\Temp\\pip-build-env-dnrp1lkz\\overlay\\Lib\\site-packages\\pybind11\\include\\pybind11\\pybind11.h(1620): note: or       'pybind11::class_<fasttext::Vector> &pybind11::class_<fasttext::Vector>::def(const char *,Func &&,const Extra ...)'\n",
      "      python/fasttext_module/fasttext/pybind/fasttext_pybind.cc(172): note: 'pybind11::class_<fasttext::Vector> &pybind11::class_<fasttext::Vector>::def(const char *,Func &&,const Extra ...)': expects 3 arguments - 1 provided\n",
      "      python/fasttext_module/fasttext/pybind/fasttext_pybind.cc(186): error C2065: 'ssize_t': undeclared identifier\n",
      "      python/fasttext_module/fasttext/pybind/fasttext_pybind.cc(186): error C2065: 'ssize_t': undeclared identifier\n",
      "      python/fasttext_module/fasttext/pybind/fasttext_pybind.cc(186): error C2672: 'pybind11::init': no matching overloaded function found\n",
      "      C:\\Users\\MSI\\AppData\\Local\\Temp\\pip-build-env-dnrp1lkz\\overlay\\Lib\\site-packages\\pybind11\\include\\pybind11\\pybind11.h(1978): note: could be 'Ret pybind11::init(CFunc &&,AFunc &&)'\n",
      "      python/fasttext_module/fasttext/pybind/fasttext_pybind.cc(186): note: 'pybind11::init': invalid template argument for 'CFunc', type expected\n",
      "      C:\\Users\\MSI\\AppData\\Local\\Temp\\pip-build-env-dnrp1lkz\\overlay\\Lib\\site-packages\\pybind11\\include\\pybind11\\pybind11.h(1970): note: or       'Ret pybind11::init(Func &&)'\n",
      "      python/fasttext_module/fasttext/pybind/fasttext_pybind.cc(186): note: 'pybind11::init': invalid template argument for 'Func', type expected\n",
      "      C:\\Users\\MSI\\AppData\\Local\\Temp\\pip-build-env-dnrp1lkz\\overlay\\Lib\\site-packages\\pybind11\\include\\pybind11\\pybind11.h(1958): note: or       'pybind11::detail::initimpl::constructor<Args...> pybind11::init(void)'\n",
      "      python/fasttext_module/fasttext/pybind/fasttext_pybind.cc(186): note: 'pybind11::init': invalid template argument for 'Args', type expected\n",
      "      python/fasttext_module/fasttext/pybind/fasttext_pybind.cc(186): error C2672: 'pybind11::class_<fasttext::DenseMatrix>::def': no matching overloaded function found\n",
      "      C:\\Users\\MSI\\AppData\\Local\\Temp\\pip-build-env-dnrp1lkz\\overlay\\Lib\\site-packages\\pybind11\\include\\pybind11\\pybind11.h(1677): note: could be 'pybind11::class_<fasttext::DenseMatrix> &pybind11::class_<fasttext::DenseMatrix>::def(pybind11::detail::initimpl::pickle_factory<Args...> &&,const Extra ...)'\n",
      "      C:\\Users\\MSI\\AppData\\Local\\Temp\\pip-build-env-dnrp1lkz\\overlay\\Lib\\site-packages\\pybind11\\include\\pybind11\\pybind11.h(1671): note: or       'pybind11::class_<fasttext::DenseMatrix> &pybind11::class_<fasttext::DenseMatrix>::def(pybind11::detail::initimpl::factory<Args...> &&,const Extra ...)'\n",
      "      C:\\Users\\MSI\\AppData\\Local\\Temp\\pip-build-env-dnrp1lkz\\overlay\\Lib\\site-packages\\pybind11\\include\\pybind11\\pybind11.h(1664): note: or       'pybind11::class_<fasttext::DenseMatrix> &pybind11::class_<fasttext::DenseMatrix>::def(const pybind11::detail::initimpl::alias_constructor<Args...> &,const Extra ...)'\n",
      "      C:\\Users\\MSI\\AppData\\Local\\Temp\\pip-build-env-dnrp1lkz\\overlay\\Lib\\site-packages\\pybind11\\include\\pybind11\\pybind11.h(1657): note: or       'pybind11::class_<fasttext::DenseMatrix> &pybind11::class_<fasttext::DenseMatrix>::def(const pybind11::detail::initimpl::constructor<Args...> &,const Extra ...)'\n",
      "      C:\\Users\\MSI\\AppData\\Local\\Temp\\pip-build-env-dnrp1lkz\\overlay\\Lib\\site-packages\\pybind11\\include\\pybind11\\pybind11.h(1645): note: or       'pybind11::class_<fasttext::DenseMatrix> &pybind11::class_<fasttext::DenseMatrix>::def(const T &,const Extra ...)'\n",
      "      C:\\Users\\MSI\\AppData\\Local\\Temp\\pip-build-env-dnrp1lkz\\overlay\\Lib\\site-packages\\pybind11\\include\\pybind11\\pybind11.h(1620): note: or       'pybind11::class_<fasttext::DenseMatrix> &pybind11::class_<fasttext::DenseMatrix>::def(const char *,Func &&,const Extra ...)'\n",
      "      python/fasttext_module/fasttext/pybind/fasttext_pybind.cc(186): note: 'pybind11::class_<fasttext::DenseMatrix> &pybind11::class_<fasttext::DenseMatrix>::def(const char *,Func &&,const Extra ...)': expects 3 arguments - 1 provided\n",
      "      error: command 'C:\\\\Program Files\\\\Microsoft Visual Studio\\\\2022\\\\Community\\\\VC\\\\Tools\\\\MSVC\\\\14.41.34120\\\\bin\\\\HostX86\\\\x64\\\\cl.exe' failed with exit code 2\n",
      "      [end of output]\n",
      "  \n",
      "  note: This error originates from a subprocess, and is likely not a problem with pip.\n",
      "  ERROR: Failed building wheel for fasttext\n",
      "ERROR: ERROR: Failed to build installable wheels for some pyproject.toml based projects (fasttext)\n"
     ]
    }
   ],
   "source": [
    "!pip install fasttext"
   ]
  },
  {
   "cell_type": "markdown",
   "metadata": {
    "id": "pXBa7xpGtnGa"
   },
   "source": [
    "Load the pretrained FastText model:"
   ]
  },
  {
   "cell_type": "code",
   "execution_count": 4,
   "metadata": {
    "id": "qGrrjpJztFfz"
   },
   "outputs": [
    {
     "ename": "ModuleNotFoundError",
     "evalue": "No module named 'fasttext'",
     "output_type": "error",
     "traceback": [
      "\u001b[1;31m---------------------------------------------------------------------------\u001b[0m",
      "\u001b[1;31mModuleNotFoundError\u001b[0m                       Traceback (most recent call last)",
      "Cell \u001b[1;32mIn[4], line 1\u001b[0m\n\u001b[1;32m----> 1\u001b[0m \u001b[38;5;28;01mimport\u001b[39;00m \u001b[38;5;21;01mfasttext\u001b[39;00m\n\u001b[0;32m      2\u001b[0m \u001b[38;5;28;01mimport\u001b[39;00m \u001b[38;5;21;01mfasttext\u001b[39;00m\u001b[38;5;21;01m.\u001b[39;00m\u001b[38;5;21;01mutil\u001b[39;00m\n\u001b[0;32m      4\u001b[0m \u001b[38;5;66;03m# Load the pretrained FastText English embeddings\u001b[39;00m\n\u001b[0;32m      5\u001b[0m \u001b[38;5;66;03m# fasttext.util.download_model('en', if_exists='ignore')  # Replace 'en' with 'vi' for Vietnamese\u001b[39;00m\n",
      "\u001b[1;31mModuleNotFoundError\u001b[0m: No module named 'fasttext'"
     ]
    }
   ],
   "source": [
    "import fasttext\n",
    "import fasttext.util\n",
    "\n",
    "# Load the pretrained FastText English embeddings\n",
    "# fasttext.util.download_model('en', if_exists='ignore')  # Replace 'en' with 'vi' for Vietnamese\n",
    "ft = fasttext.load_model('cc.en.300.bin')  # Load 300-dimensional FastText English embeddings"
   ]
  },
  {
   "cell_type": "markdown",
   "metadata": {
    "id": "TpSj7VKot3YE"
   },
   "source": [
    "# Step 2: Modify the load_data and Embedding Extraction\n",
    "Replace the BERT tokenization and embeddings in the Question 1 with FastText embeddings for each word in the sentences."
   ]
  },
  {
   "cell_type": "code",
   "execution_count": null,
   "metadata": {
    "id": "cgXSSF-ZuVap"
   },
   "outputs": [],
   "source": [
    "import fasttext\n",
    "import fasttext.util\n",
    "\n",
    "# Load the FastText model for Vietnamese\n",
    "# fasttext.util.download_model('en', if_exists='ignore')  # Only runs if the model is not already downloaded\n",
    "# ft = fasttext.load_model('cc.en.300.bin')  # Adjust the path if needed\n",
    "\n",
    "# Define the function to load data\n",
    "def load_data(filepath):\n",
    "    sentences, labels = [], []\n",
    "    with open(filepath, 'r') as f:\n",
    "        sentence, label = [], []\n",
    "        for line in f:\n",
    "            if line.startswith('-DOCSTART-') or line == \"\\n\":\n",
    "                if sentence:\n",
    "                    sentences.append(sentence)\n",
    "                    labels.append(label)\n",
    "                sentence, label = [], []\n",
    "            else:\n",
    "                parts = line.strip().split()\n",
    "                if len(parts) == 4:  # Only process lines with exactly four parts\n",
    "                    word, _, _, tag = parts\n",
    "                    sentence.append(word)\n",
    "                    label.append(tag)\n",
    "        if sentence:\n",
    "            sentences.append(sentence)\n",
    "            labels.append(label)\n",
    "    return sentences, labels\n",
    "\n",
    "# Load sentences and labels as before\n",
    "train_sentences, train_labels = load_data('/content/drive/MyDrive/Colab_Notebooks/MIDTERM_NLP/train.txt')\n",
    "test_sentences, test_labels = load_data('/content/drive/MyDrive/Colab_Notebooks/MIDTERM_NLP/test.txt')\n",
    "valid_sentences, valid_labels = load_data('/content/drive/MyDrive/Colab_Notebooks/MIDTERM_NLP/valid.txt')\n",
    "\n",
    "# Convert sentences to FastText embeddings\n",
    "def get_fasttext_embeddings(sentences):\n",
    "    embedded_sentences = []\n",
    "    for sentence in sentences:\n",
    "        sentence_embeddings = [ft.get_word_vector(word) for word in sentence]\n",
    "        embedded_sentences.append(sentence_embeddings)\n",
    "    return embedded_sentences\n",
    "\n",
    "# Get embeddings for each dataset\n",
    "train_embeddings = get_fasttext_embeddings(train_sentences)\n",
    "test_embeddings = get_fasttext_embeddings(test_sentences)\n",
    "valid_embeddings = get_fasttext_embeddings(valid_sentences)\n"
   ]
  },
  {
   "cell_type": "markdown",
   "metadata": {
    "id": "ETAgv-RBuyb0"
   },
   "source": [
    "# Step 3: Update the NERDataset Class for FastText Embeddings\n",
    "Since FastText embeddings are already in vector form, you won’t need additional token offsets or padding. Each word vector can be directly used as input to the model."
   ]
  },
  {
   "cell_type": "code",
   "execution_count": null,
   "metadata": {
    "id": "buvuxQiJv2i0"
   },
   "outputs": [],
   "source": [
    "import fasttext\n",
    "import numpy as np\n",
    "\n",
    "# Tải mô hình FastText đã huấn luyện trước cho tiếng Việt\n",
    "fasttext_model = fasttext.load_model('cc.en.300.bin')  # Đường dẫn đến mô hình tiếng Việt đã huấn luyện\n",
    "\n",
    "# Hàm chuyển đổi câu thành vector embedding với FastText\n",
    "def sentence_to_embedding(sentences):\n",
    "    embedded_sentences = []\n",
    "    for sentence in sentences:\n",
    "        embedded_sentence = [fasttext_model.get_word_vector(word) for word in sentence]\n",
    "        embedded_sentences.append(embedded_sentence)\n",
    "    return embedded_sentences\n",
    "\n",
    "# Áp dụng FastText cho các câu train, test, valid\n",
    "train_embeddings = sentence_to_embedding(train_sentences)\n",
    "test_embeddings = sentence_to_embedding(test_sentences)\n",
    "valid_embeddings = sentence_to_embedding(valid_sentences)\n",
    "\n",
    "# Chuyển đổi các embedding và nhãn thành dạng PyTorch Tensor Dataset\n",
    "import torch\n",
    "\n",
    "class FastTextNERDataset(torch.utils.data.Dataset):\n",
    "    def __init__(self, embeddings, labels):\n",
    "        self.embeddings = embeddings\n",
    "        self.labels = labels\n",
    "\n",
    "    def __getitem__(self, idx):\n",
    "        return {\n",
    "            'input_ids': torch.tensor(self.embeddings[idx], dtype=torch.float32),\n",
    "            'labels': torch.tensor(self.labels[idx], dtype=torch.long)\n",
    "        }\n",
    "\n",
    "    def __len__(self):\n",
    "        return len(self.labels)\n",
    "\n",
    "# Tạo tập dữ liệu huấn luyện, kiểm thử và xác thực\n",
    "train_dataset = FastTextNERDataset(train_embeddings, train_labels)\n",
    "test_dataset = FastTextNERDataset(test_embeddings, test_labels)\n",
    "valid_dataset = FastTextNERDataset(valid_embeddings, valid_labels)"
   ]
  },
  {
   "cell_type": "markdown",
   "metadata": {
    "id": "9HUvwY3FwHpk"
   },
   "source": [
    "# Step 4: Train the Model with Hugging Face Trainer\n",
    "Since we’re using a custom model, we can train it directly with the Hugging Face Trainer:"
   ]
  },
  {
   "cell_type": "code",
   "execution_count": null,
   "metadata": {
    "colab": {
     "base_uri": "https://localhost:8080/",
     "height": 211
    },
    "id": "FGbaFvet9YMF",
    "outputId": "667d549f-4e79-472a-ffc0-d30ca2c58931"
   },
   "outputs": [],
   "source": [
    "# Define training arguments\n",
    "# Các tham số huấn luyện được định nghĩa bằng TrainingArguments:\n",
    "training_args = TrainingArguments(\n",
    "    # Thư mục lưu trữ kết quả huấn luyện\n",
    "    output_dir='./results',\n",
    "    # evaluation_strategy=\"epoch\" chỉ định việc đánh giá vào cuối mỗi epoch\n",
    "    #(một lần duyệt qua toàn bộ dữ liệu huấn luyện).\n",
    "    evaluation_strategy=\"epoch\",\n",
    "    # learning_rate=2e-5: Tốc độ học của mô hình, xác định mức độ điều chỉnh trọng số sau mỗi lần cập nhật.\n",
    "    learning_rate=2e-5,\n",
    "    # Kích thước batch cho mỗi thiết bị trong quá trình huấn luyện.\n",
    "    per_device_train_batch_size=16,\n",
    "    # Kích thước batch cho mỗi thiết bị trong quá trình đánh giá.\n",
    "    per_device_eval_batch_size=16,\n",
    "    # Số lượng epoch để huấn luyện mô hình.\n",
    "    num_train_epochs=3,\n",
    "    # Hệ số giảm trọng số, giúp tránh overfitting bằng cách giảm giá trị của các trọng số lớn.\n",
    "    weight_decay=0.01,\n",
    ")\n",
    "\n",
    "# Define Trainer\n",
    "# Khởi tạo một đối tượng Trainer từ thư viện Transformers của Hugging Face\n",
    "#Trainer một lớp giúp bạn dễ dàng huấn luyện và đánh giá mô hình.\n",
    "trainer = Trainer(\n",
    "    # model=model: Đây là mô hình bạn muốn huấn luyện.\n",
    "    #Nó có thể là bất kỳ mô hình nào từ thư viện Transformers, chẳng hạn như BERT, GPT-2, v.v.\n",
    "    model=model,\n",
    "    # Đây là các tham số huấn luyện mà đã được định nghĩa ở trên,\n",
    "    #chẳng hạn như tốc độ học, số lượng epoch, kích thước batch, v.v.\n",
    "    args=training_args,\n",
    "    # train_dataset=train_dataset là tập dữ liệu huấn luyện dùng để huấn luyện mô hình.\n",
    "    train_dataset=train_dataset,\n",
    "    # eval_dataset=test_dataset là tập dữ liệu đánh giá dùng để đánh giá mô hình trong quá trình huấn luyện.\n",
    "    eval_dataset=test_dataset\n",
    ")\n",
    "\n",
    "# Sử dụng method train() của trainer để train model.\n",
    "# Sau khi train xong, model sẽ sẵn sàng để đánh giá và sử dụng cho các tác vụ dự đoán.\n",
    "trainer.train()"
   ]
  },
  {
   "cell_type": "markdown",
   "metadata": {
    "id": "JyLppcF2e6tQ"
   },
   "source": [
    "# Step 5: Evaluation"
   ]
  },
  {
   "cell_type": "code",
   "execution_count": null,
   "metadata": {
    "colab": {
     "base_uri": "https://localhost:8080/",
     "height": 211
    },
    "id": "cN4hD1CPeqQ9",
    "outputId": "a25495b5-cece-468f-f12d-ebc3b36399ea"
   },
   "outputs": [],
   "source": [
    "import numpy as np\n",
    "\n",
    "# Evaluate the model on the validation dataset\n",
    "# Mô hình được đánh giá trên tập valid_dataset bằng cách sử dụng trainer.evaluate().\n",
    "#Nó trả về các chỉ số như độ chính xác và độ mất mát trên valid_dataset.\n",
    "# evaluation_results = trainer.evaluate(eval_dataset=valid_dataset)\n",
    "# in ra {'eval_loss': 0.021987076848745346,\n",
    "#'eval_runtime': 25.482,\n",
    "#'eval_samples_per_second': 127.541,\n",
    "#'eval_steps_per_second': 8.006,\n",
    "#'epoch': 3.0}\n",
    "# print(evaluation_results)\n",
    "\n",
    "# Get predictions on the test set\n",
    "# method trainer.predict() được sử dụng để lấy các dự đoán trên tập test_dataset\n",
    "#labels là ID nhãn thực từ tập test_dataset.\n",
    "predictions, labels, _ = trainer.predict(test_dataset)\n",
    "# predictions chứa các điểm số thô cho mỗi lớp,\n",
    "#được chuyển đổi thành ID nhãn bằng cách lấy argmax.\n",
    "predictions = np.argmax(predictions, axis=2)\n",
    "\n",
    "# Define a function to convert the label IDs back to label names\n",
    "def convert_labels(predictions, labels, label_list):\n",
    "    pred_list = []\n",
    "    true_list = []\n",
    "    for pred, label in zip(predictions, labels):\n",
    "        pred_list.append([label_list[p] for p in pred])\n",
    "        true_list.append([label_list[l] for l in label])\n",
    "    return pred_list, true_list\n",
    "\n",
    "# Convert the predictions and labels back to their original format\n",
    "pred_labels, true_labels = convert_labels(predictions, test_labels, label_list)\n",
    "# Generate a classification report\n",
    "from sklearn.metrics import classification_report\n",
    "# Flatten the lists for easier comparison\n",
    "true_labels_flat = [item for sublist in true_labels for item in sublist]\n",
    "pred_labels_flat = [item for sublist in pred_labels for item in sublist]\n",
    "# Generate and print the classification report\n",
    "print(classification_report(true_labels_flat, pred_labels_flat, target_names=label_list))"
   ]
  }
 ],
 "metadata": {
  "accelerator": "GPU",
  "colab": {
   "collapsed_sections": [
    "9HUvwY3FwHpk",
    "JyLppcF2e6tQ"
   ],
   "gpuType": "T4",
   "provenance": []
  },
  "kernelspec": {
   "display_name": "HoangEnvironment",
   "language": "python",
   "name": "python3"
  },
  "language_info": {
   "codemirror_mode": {
    "name": "ipython",
    "version": 3
   },
   "file_extension": ".py",
   "mimetype": "text/x-python",
   "name": "python",
   "nbconvert_exporter": "python",
   "pygments_lexer": "ipython3",
   "version": "3.13.0"
  },
  "polyglot_notebook": {
   "kernelInfo": {
    "defaultKernelName": "csharp",
    "items": [
     {
      "aliases": [],
      "name": "csharp"
     }
    ]
   }
  }
 },
 "nbformat": 4,
 "nbformat_minor": 0
}
