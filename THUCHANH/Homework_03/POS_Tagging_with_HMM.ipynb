{
  "nbformat": 4,
  "nbformat_minor": 0,
  "metadata": {
    "colab": {
      "provenance": []
    },
    "kernelspec": {
      "name": "python3",
      "display_name": "Python 3"
    },
    "language_info": {
      "name": "python"
    }
  },
  "cells": [
    {
      "cell_type": "code",
      "source": [
        "import numpy as np\n",
        "class HMM_POS_Tagger:\n",
        "    def __init__(self, states, observations):\n",
        "        self.states = states  # POS tags (e.g., Noun, Verb, Adj)\n",
        "        self.observations = observations  # Words in the vocabulary\n",
        "        self.start_prob = {}\n",
        "        self.transition_prob = {}\n",
        "        self.emission_prob = {}\n",
        "    def train(self, tagged_sentences):\n",
        "        state_count = {state: 0 for state in self.states}\n",
        "        transition_count = {state: {next_state: 0 for next_state in self.states} for state in self.states}\n",
        "        emission_count = {state: {obs: 0 for obs in self.observations} for state in self.states}\n",
        "\n",
        "        for sentence in tagged_sentences:\n",
        "            prev_state = None\n",
        "            for word, tag in sentence:\n",
        "                state_count[tag] += 1\n",
        "                emission_count[tag][word] += 1\n",
        "\n",
        "                if prev_state is None:\n",
        "                    self.start_prob[tag] = self.start_prob.get(tag, 0) + 1\n",
        "                else:\n",
        "                    transition_count[prev_state][tag] += 1\n",
        "\n",
        "                prev_state = tag\n",
        "        # Normalize to get probabilities\n",
        "        total_sentences = len(tagged_sentences)\n",
        "        self.start_prob = {k: v / total_sentences for k, v in self.start_prob.items()}\n",
        "        self.transition_prob = {state: {next_state: transition_count[state][next_state] / state_count[state]\n",
        "                                        for next_state in self.states} for state in self.states}\n",
        "        self.emission_prob = {state: {obs: emission_count[state][obs] / state_count[state]\n",
        "                                      for obs in self.observations} for state in self.states}\n",
        "    def viterbi(self, sentence):\n",
        "        n = len(sentence)\n",
        "        V = [{}]\n",
        "        path = {}\n",
        "\n",
        "        for state in self.states:\n",
        "            V[0][state] = self.start_prob.get(state, 0) * self.emission_prob[state].get(sentence[0], 0)\n",
        "            path[state] = [state]\n",
        "\n",
        "        for t in range(1, n):\n",
        "            V.append({})\n",
        "            new_path = {}\n",
        "\n",
        "            for state in self.states:\n",
        "                (prob, prev_state) = max((V[t-1][y] * self.transition_prob[y][state] * self.emission_prob[state].get(sentence[t], 0), y) for y in self.states)\n",
        "                V[t][state] = prob\n",
        "                new_path[state] = path[prev_state] + [state]\n",
        "\n",
        "            path = new_path\n",
        "\n",
        "        (prob, final_state) = max((V[n-1][state], state) for state in self.states)\n",
        "        return (prob, path[final_state])\n",
        "# Example Usage\n",
        "states = ['Noun', 'Verb', 'Adj']\n",
        "observations = ['dog', 'barks', 'loudly', 'cat', 'runs']\n",
        "tagger = HMM_POS_Tagger(states, observations)\n",
        "# Training data: list of sentences with (word, POS tag) pairs\n",
        "tagged_sentences = [[('dog', 'Noun'), ('barks', 'Verb'), ('loudly', 'Adj')],\n",
        "                    [('cat', 'Noun'), ('runs', 'Verb')]]\n",
        "tagger.train(tagged_sentences)\n",
        "sentence = ['dog', 'runs']\n",
        "print(tagger.viterbi(sentence))  # Outputs the most probable POS tags for the sentence"
      ],
      "metadata": {
        "colab": {
          "base_uri": "https://localhost:8080/"
        },
        "id": "8RxvqoutX52Y",
        "outputId": "5dffc03d-d5e9-4365-ddd1-48d885e7e8b6"
      },
      "execution_count": 2,
      "outputs": [
        {
          "output_type": "stream",
          "name": "stdout",
          "text": [
            "(0.25, ['Noun', 'Verb'])\n"
          ]
        }
      ]
    }
  ]
}